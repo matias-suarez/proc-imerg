{
 "cells": [
  {
   "cell_type": "code",
   "execution_count": 28,
   "id": "46e20b0e",
   "metadata": {
    "ExecuteTime": {
     "end_time": "2024-04-11T00:00:01.234679Z",
     "start_time": "2024-04-11T00:00:01.230732Z"
    }
   },
   "outputs": [],
   "source": [
    "import glob\n",
    "from netCDF4 import Dataset as NetCDFFile \n",
    "from datetime import datetime\n",
    "import pandas as pd\n",
    "import numpy as np"
   ]
  },
  {
   "cell_type": "code",
   "execution_count": 57,
   "id": "ab700a1a",
   "metadata": {
    "ExecuteTime": {
     "end_time": "2024-04-11T00:19:11.356932Z",
     "start_time": "2024-04-11T00:19:11.351635Z"
    }
   },
   "outputs": [],
   "source": [
    "directory = '/home/msuarez/Documents/Script-Download_IMERG-F/202311_202404'\n",
    "\n",
    "# Los datos de IMERG-F se descargan de https://disc.gsfc.nasa.gov/datasets/GPM_3IMERGHH_06\n",
    "imergFilelist = glob.glob(directory+'/*.nc4')\n",
    "imergFilelist.sort()"
   ]
  },
  {
   "cell_type": "code",
   "execution_count": 58,
   "id": "5a97e2df",
   "metadata": {
    "ExecuteTime": {
     "end_time": "2024-04-11T00:19:11.826792Z",
     "start_time": "2024-04-11T00:19:11.824534Z"
    }
   },
   "outputs": [
    {
     "data": {
      "text/plain": [
       "35"
      ]
     },
     "execution_count": 58,
     "metadata": {},
     "output_type": "execute_result"
    }
   ],
   "source": [
    "len(imergFilelist)"
   ]
  },
  {
   "cell_type": "markdown",
   "id": "3d2ff6ba",
   "metadata": {},
   "source": [
    "# El siguiente bloque es para datos de IMERG-Late (diario)"
   ]
  },
  {
   "cell_type": "code",
   "execution_count": 59,
   "id": "fda4d0c1",
   "metadata": {
    "ExecuteTime": {
     "end_time": "2024-04-11T00:19:15.079802Z",
     "start_time": "2024-04-11T00:19:14.984849Z"
    }
   },
   "outputs": [
    {
     "name": "stdout",
     "output_type": "stream",
     "text": [
      "Coordenadas objetivo: -31.277694 -64.301187\n",
      "Las coordenadas del punto de grilla mas cercano son: -31.25 -64.35\n",
      "Proceso Finalizado\n"
     ]
    }
   ],
   "source": [
    "target_lat = -31.277694\n",
    "target_lon = -64.301187\n",
    "\n",
    "print('Coordenadas objetivo:',target_lat,target_lon)\n",
    "\n",
    "df_imerg = pd.DataFrame()\n",
    "contador = 0\n",
    "\n",
    "for file in imergFilelist:\n",
    "\n",
    "    nc = NetCDFFile(file)\n",
    "\n",
    "    datetime_object = datetime.strptime(nc.BeginDate, '%Y-%m-%d')\n",
    "    \n",
    "    lat = nc.variables['lat'][:]\n",
    "    lon = nc.variables['lon'][:]\n",
    "    precip = nc.variables['precipitationCal'][:]\n",
    "\n",
    "    ilat = np.argmin( np.abs(lat-(target_lat)))\n",
    "    ilon = np.argmin( np.abs(lon-(target_lon)))\n",
    "    \n",
    "    if contador < 1:\n",
    "        print('Las coordenadas del punto de grilla mas cercano son:',lat[ilat],lon[ilon])\n",
    "\n",
    "    contador = contador+1\n",
    "\n",
    "    df_temp = pd.DataFrame( { 'precip [mm]':float(precip[0,ilon,ilat]) } ,\n",
    "                           index=[datetime_object])\n",
    "\n",
    "    df_imerg = pd.concat([df_imerg, df_temp])\n",
    "    \n",
    "print('Proceso Finalizado')"
   ]
  },
  {
   "cell_type": "code",
   "execution_count": 60,
   "id": "fc5d7883",
   "metadata": {
    "ExecuteTime": {
     "end_time": "2024-04-11T00:19:16.870307Z",
     "start_time": "2024-04-11T00:19:16.864469Z"
    }
   },
   "outputs": [
    {
     "data": {
      "text/html": [
       "<div>\n",
       "<style scoped>\n",
       "    .dataframe tbody tr th:only-of-type {\n",
       "        vertical-align: middle;\n",
       "    }\n",
       "\n",
       "    .dataframe tbody tr th {\n",
       "        vertical-align: top;\n",
       "    }\n",
       "\n",
       "    .dataframe thead th {\n",
       "        text-align: right;\n",
       "    }\n",
       "</style>\n",
       "<table border=\"1\" class=\"dataframe\">\n",
       "  <thead>\n",
       "    <tr style=\"text-align: right;\">\n",
       "      <th></th>\n",
       "      <th>precip [mm]</th>\n",
       "    </tr>\n",
       "  </thead>\n",
       "  <tbody>\n",
       "    <tr>\n",
       "      <th>2023-11-01</th>\n",
       "      <td>1.572752</td>\n",
       "    </tr>\n",
       "    <tr>\n",
       "      <th>2023-11-02</th>\n",
       "      <td>3.121245</td>\n",
       "    </tr>\n",
       "    <tr>\n",
       "      <th>2023-11-03</th>\n",
       "      <td>0.005094</td>\n",
       "    </tr>\n",
       "    <tr>\n",
       "      <th>2023-11-04</th>\n",
       "      <td>0.000000</td>\n",
       "    </tr>\n",
       "    <tr>\n",
       "      <th>2023-11-05</th>\n",
       "      <td>0.000000</td>\n",
       "    </tr>\n",
       "    <tr>\n",
       "      <th>2023-11-06</th>\n",
       "      <td>0.000000</td>\n",
       "    </tr>\n",
       "    <tr>\n",
       "      <th>2023-11-07</th>\n",
       "      <td>0.240000</td>\n",
       "    </tr>\n",
       "    <tr>\n",
       "      <th>2023-11-08</th>\n",
       "      <td>10.165890</td>\n",
       "    </tr>\n",
       "    <tr>\n",
       "      <th>2023-11-09</th>\n",
       "      <td>0.000000</td>\n",
       "    </tr>\n",
       "    <tr>\n",
       "      <th>2023-11-10</th>\n",
       "      <td>0.287778</td>\n",
       "    </tr>\n",
       "    <tr>\n",
       "      <th>2023-11-11</th>\n",
       "      <td>0.000000</td>\n",
       "    </tr>\n",
       "    <tr>\n",
       "      <th>2023-11-12</th>\n",
       "      <td>0.000000</td>\n",
       "    </tr>\n",
       "    <tr>\n",
       "      <th>2023-11-13</th>\n",
       "      <td>0.000000</td>\n",
       "    </tr>\n",
       "    <tr>\n",
       "      <th>2023-11-14</th>\n",
       "      <td>0.000000</td>\n",
       "    </tr>\n",
       "    <tr>\n",
       "      <th>2023-11-15</th>\n",
       "      <td>1.711519</td>\n",
       "    </tr>\n",
       "    <tr>\n",
       "      <th>2023-11-16</th>\n",
       "      <td>47.636021</td>\n",
       "    </tr>\n",
       "    <tr>\n",
       "      <th>2023-11-17</th>\n",
       "      <td>0.000000</td>\n",
       "    </tr>\n",
       "    <tr>\n",
       "      <th>2023-11-18</th>\n",
       "      <td>0.008691</td>\n",
       "    </tr>\n",
       "    <tr>\n",
       "      <th>2023-11-19</th>\n",
       "      <td>0.288501</td>\n",
       "    </tr>\n",
       "    <tr>\n",
       "      <th>2023-11-20</th>\n",
       "      <td>0.000000</td>\n",
       "    </tr>\n",
       "    <tr>\n",
       "      <th>2023-11-21</th>\n",
       "      <td>30.338493</td>\n",
       "    </tr>\n",
       "    <tr>\n",
       "      <th>2023-11-22</th>\n",
       "      <td>33.002285</td>\n",
       "    </tr>\n",
       "    <tr>\n",
       "      <th>2023-11-23</th>\n",
       "      <td>0.000000</td>\n",
       "    </tr>\n",
       "    <tr>\n",
       "      <th>2023-11-24</th>\n",
       "      <td>1.695948</td>\n",
       "    </tr>\n",
       "    <tr>\n",
       "      <th>2023-11-25</th>\n",
       "      <td>0.204623</td>\n",
       "    </tr>\n",
       "    <tr>\n",
       "      <th>2023-11-26</th>\n",
       "      <td>0.000000</td>\n",
       "    </tr>\n",
       "    <tr>\n",
       "      <th>2023-11-27</th>\n",
       "      <td>2.836766</td>\n",
       "    </tr>\n",
       "    <tr>\n",
       "      <th>2023-11-28</th>\n",
       "      <td>0.000000</td>\n",
       "    </tr>\n",
       "    <tr>\n",
       "      <th>2023-11-29</th>\n",
       "      <td>13.519198</td>\n",
       "    </tr>\n",
       "    <tr>\n",
       "      <th>2023-11-30</th>\n",
       "      <td>0.031678</td>\n",
       "    </tr>\n",
       "    <tr>\n",
       "      <th>2023-12-01</th>\n",
       "      <td>6.112773</td>\n",
       "    </tr>\n",
       "    <tr>\n",
       "      <th>2023-12-02</th>\n",
       "      <td>11.826345</td>\n",
       "    </tr>\n",
       "    <tr>\n",
       "      <th>2023-12-03</th>\n",
       "      <td>1.001166</td>\n",
       "    </tr>\n",
       "    <tr>\n",
       "      <th>2023-12-04</th>\n",
       "      <td>0.000150</td>\n",
       "    </tr>\n",
       "    <tr>\n",
       "      <th>2023-12-05</th>\n",
       "      <td>0.000000</td>\n",
       "    </tr>\n",
       "  </tbody>\n",
       "</table>\n",
       "</div>"
      ],
      "text/plain": [
       "            precip [mm]\n",
       "2023-11-01     1.572752\n",
       "2023-11-02     3.121245\n",
       "2023-11-03     0.005094\n",
       "2023-11-04     0.000000\n",
       "2023-11-05     0.000000\n",
       "2023-11-06     0.000000\n",
       "2023-11-07     0.240000\n",
       "2023-11-08    10.165890\n",
       "2023-11-09     0.000000\n",
       "2023-11-10     0.287778\n",
       "2023-11-11     0.000000\n",
       "2023-11-12     0.000000\n",
       "2023-11-13     0.000000\n",
       "2023-11-14     0.000000\n",
       "2023-11-15     1.711519\n",
       "2023-11-16    47.636021\n",
       "2023-11-17     0.000000\n",
       "2023-11-18     0.008691\n",
       "2023-11-19     0.288501\n",
       "2023-11-20     0.000000\n",
       "2023-11-21    30.338493\n",
       "2023-11-22    33.002285\n",
       "2023-11-23     0.000000\n",
       "2023-11-24     1.695948\n",
       "2023-11-25     0.204623\n",
       "2023-11-26     0.000000\n",
       "2023-11-27     2.836766\n",
       "2023-11-28     0.000000\n",
       "2023-11-29    13.519198\n",
       "2023-11-30     0.031678\n",
       "2023-12-01     6.112773\n",
       "2023-12-02    11.826345\n",
       "2023-12-03     1.001166\n",
       "2023-12-04     0.000150\n",
       "2023-12-05     0.000000"
      ]
     },
     "execution_count": 60,
     "metadata": {},
     "output_type": "execute_result"
    }
   ],
   "source": [
    "df_imerg"
   ]
  },
  {
   "cell_type": "code",
   "execution_count": 61,
   "id": "ae9d0e09",
   "metadata": {
    "ExecuteTime": {
     "end_time": "2024-04-11T00:19:22.614189Z",
     "start_time": "2024-04-11T00:19:22.604887Z"
    }
   },
   "outputs": [
    {
     "data": {
      "text/plain": [
       "precip [mm]    7\n",
       "dtype: int64"
      ]
     },
     "execution_count": 61,
     "metadata": {},
     "output_type": "execute_result"
    }
   ],
   "source": [
    "# Contamos el numero de valores según una condición\n",
    "df_imerg[df_imerg > 5 ].count() "
   ]
  },
  {
   "cell_type": "code",
   "execution_count": 55,
   "id": "bfd18478",
   "metadata": {
    "ExecuteTime": {
     "end_time": "2024-04-11T00:09:11.947623Z",
     "start_time": "2024-04-11T00:09:11.944638Z"
    }
   },
   "outputs": [],
   "source": [
    "# df_imerg.to_csv('/home/msuarez/Desktop/IMERG_F_20200323_2115-20200329_2045.csv')"
   ]
  },
  {
   "cell_type": "code",
   "execution_count": 62,
   "id": "eacd6caf",
   "metadata": {
    "ExecuteTime": {
     "end_time": "2024-04-11T00:19:24.657722Z",
     "start_time": "2024-04-11T00:19:24.523841Z"
    }
   },
   "outputs": [
    {
     "data": {
      "image/png": "[encoded data removed]",
      "text/plain": [
       "<Figure size 936x360 with 1 Axes>"
      ]
     },
     "metadata": {
      "needs_background": "light"
     },
     "output_type": "display_data"
    }
   ],
   "source": [
    "import matplotlib.pyplot as plt\n",
    "\n",
    "plt.figure(figsize=(13,5))\n",
    "\n",
    "plt.plot(df_imerg.index,\n",
    "         df_imerg['precip [mm]'], label='IMERG-Late')\n",
    "\n",
    "plt.xlabel('Fecha-Hora',fontweight='bold')\n",
    "plt.ylabel('Precipitación [mm]',fontweight='bold')\n",
    "\n",
    "from matplotlib.ticker import StrMethodFormatter\n",
    "plt.gca().yaxis.set_major_formatter(StrMethodFormatter('{x:,.1f}'))\n",
    "\n",
    "plt.xticks(rotation=45)\n",
    "plt.legend(loc='upper left')\n",
    "\n",
    "plt.tight_layout()\n",
    "plt.show()"
   ]
  },
  {
   "cell_type": "code",
   "execution_count": null,
   "id": "b9ad3838",
   "metadata": {},
   "outputs": [],
   "source": []
  }
 ],
 "metadata": {
  "kernelspec": {
   "display_name": "Python 3",
   "language": "python",
   "name": "python3"
  },
  "language_info": {
   "codemirror_mode": {
    "name": "ipython",
    "version": 3
   },
   "file_extension": ".py",
   "mimetype": "text/x-python",
   "name": "python",
   "nbconvert_exporter": "python",
   "pygments_lexer": "ipython3",
   "version": "3.8.10"
  }
 },
 "nbformat": 4,
 "nbformat_minor": 5
}
