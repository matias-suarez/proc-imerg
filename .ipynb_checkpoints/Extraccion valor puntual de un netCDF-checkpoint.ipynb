{
 "cells": [
  {
   "cell_type": "code",
   "execution_count": 1,
   "id": "46e20b0e",
   "metadata": {
    "ExecuteTime": {
     "end_time": "2024-04-15T12:19:01.637782Z",
     "start_time": "2024-04-15T12:19:01.335914Z"
    }
   },
   "outputs": [],
   "source": [
    "import glob\n",
    "from netCDF4 import Dataset as NetCDFFile \n",
    "from datetime import datetime\n",
    "import pandas as pd\n",
    "import numpy as np"
   ]
  },
  {
   "cell_type": "code",
   "execution_count": 2,
   "id": "26d61b04",
   "metadata": {
    "ExecuteTime": {
     "end_time": "2024-04-15T12:19:06.387661Z",
     "start_time": "2024-04-15T12:19:05.456740Z"
    }
   },
   "outputs": [],
   "source": [
    "path = '/home/msuarez/Documents/Script-Download_IMERG-F/202311_202404/'\n",
    "\n",
    "ema_df = pd.read_excel(path+'ClimaReporte-01-11-2023--10-04-2024.xlsx', skiprows=5)\n",
    "ema_df['Fecha'] =  pd.to_datetime(ema_df['Fecha'], format='%d-%m-%Y %H:%M')\n",
    "ema_df.set_index('Fecha', inplace=True)"
   ]
  },
  {
   "cell_type": "code",
   "execution_count": 3,
   "id": "64d0a365",
   "metadata": {
    "ExecuteTime": {
     "end_time": "2024-04-15T12:19:07.115890Z",
     "start_time": "2024-04-15T12:19:07.092356Z"
    }
   },
   "outputs": [
    {
     "data": {
      "text/html": [
       "<div>\n",
       "<style scoped>\n",
       "    .dataframe tbody tr th:only-of-type {\n",
       "        vertical-align: middle;\n",
       "    }\n",
       "\n",
       "    .dataframe tbody tr th {\n",
       "        vertical-align: top;\n",
       "    }\n",
       "\n",
       "    .dataframe thead th {\n",
       "        text-align: right;\n",
       "    }\n",
       "</style>\n",
       "<table border=\"1\" class=\"dataframe\">\n",
       "  <thead>\n",
       "    <tr style=\"text-align: right;\">\n",
       "      <th></th>\n",
       "      <th>Registro de Lluvia [mm]</th>\n",
       "      <th>Unnamed: 2</th>\n",
       "    </tr>\n",
       "    <tr>\n",
       "      <th>Fecha</th>\n",
       "      <th></th>\n",
       "      <th></th>\n",
       "    </tr>\n",
       "  </thead>\n",
       "  <tbody>\n",
       "    <tr>\n",
       "      <th>2023-11-01 00:00:00</th>\n",
       "      <td>0.0</td>\n",
       "      <td>NaN</td>\n",
       "    </tr>\n",
       "    <tr>\n",
       "      <th>2023-11-01 00:10:00</th>\n",
       "      <td>0.0</td>\n",
       "      <td>NaN</td>\n",
       "    </tr>\n",
       "    <tr>\n",
       "      <th>2023-11-01 00:20:00</th>\n",
       "      <td>0.0</td>\n",
       "      <td>NaN</td>\n",
       "    </tr>\n",
       "    <tr>\n",
       "      <th>2023-11-01 00:30:00</th>\n",
       "      <td>0.0</td>\n",
       "      <td>NaN</td>\n",
       "    </tr>\n",
       "    <tr>\n",
       "      <th>2023-11-01 00:40:00</th>\n",
       "      <td>0.0</td>\n",
       "      <td>NaN</td>\n",
       "    </tr>\n",
       "    <tr>\n",
       "      <th>...</th>\n",
       "      <td>...</td>\n",
       "      <td>...</td>\n",
       "    </tr>\n",
       "    <tr>\n",
       "      <th>2024-04-10 23:10:00</th>\n",
       "      <td>0.0</td>\n",
       "      <td>NaN</td>\n",
       "    </tr>\n",
       "    <tr>\n",
       "      <th>2024-04-10 23:20:00</th>\n",
       "      <td>0.0</td>\n",
       "      <td>NaN</td>\n",
       "    </tr>\n",
       "    <tr>\n",
       "      <th>2024-04-10 23:30:00</th>\n",
       "      <td>0.0</td>\n",
       "      <td>NaN</td>\n",
       "    </tr>\n",
       "    <tr>\n",
       "      <th>2024-04-10 23:40:00</th>\n",
       "      <td>0.0</td>\n",
       "      <td>NaN</td>\n",
       "    </tr>\n",
       "    <tr>\n",
       "      <th>2024-04-10 23:50:00</th>\n",
       "      <td>0.0</td>\n",
       "      <td>NaN</td>\n",
       "    </tr>\n",
       "  </tbody>\n",
       "</table>\n",
       "<p>23326 rows × 2 columns</p>\n",
       "</div>"
      ],
      "text/plain": [
       "                     Registro de Lluvia [mm]  Unnamed: 2\n",
       "Fecha                                                   \n",
       "2023-11-01 00:00:00                      0.0         NaN\n",
       "2023-11-01 00:10:00                      0.0         NaN\n",
       "2023-11-01 00:20:00                      0.0         NaN\n",
       "2023-11-01 00:30:00                      0.0         NaN\n",
       "2023-11-01 00:40:00                      0.0         NaN\n",
       "...                                      ...         ...\n",
       "2024-04-10 23:10:00                      0.0         NaN\n",
       "2024-04-10 23:20:00                      0.0         NaN\n",
       "2024-04-10 23:30:00                      0.0         NaN\n",
       "2024-04-10 23:40:00                      0.0         NaN\n",
       "2024-04-10 23:50:00                      0.0         NaN\n",
       "\n",
       "[23326 rows x 2 columns]"
      ]
     },
     "execution_count": 3,
     "metadata": {},
     "output_type": "execute_result"
    }
   ],
   "source": [
    "ema_df"
   ]
  },
  {
   "cell_type": "code",
   "execution_count": 45,
   "id": "ab700a1a",
   "metadata": {
    "ExecuteTime": {
     "end_time": "2024-04-15T14:42:17.569408Z",
     "start_time": "2024-04-15T14:42:17.540782Z"
    }
   },
   "outputs": [],
   "source": [
    "directory = '/home/msuarez/Documents/Script-Download_IMERG-F/202311_202404'\n",
    "\n",
    "# Los datos de IMERG-F se descargan de https://disc.gsfc.nasa.gov/datasets/GPM_3IMERGHH_06\n",
    "imergFilelist = glob.glob(directory+'/*.nc4')\n",
    "imergFilelist.sort()"
   ]
  },
  {
   "cell_type": "code",
   "execution_count": 46,
   "id": "5a97e2df",
   "metadata": {
    "ExecuteTime": {
     "end_time": "2024-04-15T14:42:18.112014Z",
     "start_time": "2024-04-15T14:42:18.106609Z"
    }
   },
   "outputs": [
    {
     "data": {
      "text/plain": [
       "7764"
      ]
     },
     "execution_count": 46,
     "metadata": {},
     "output_type": "execute_result"
    }
   ],
   "source": [
    "len(imergFilelist)"
   ]
  },
  {
   "cell_type": "markdown",
   "id": "81603d48",
   "metadata": {},
   "source": [
    "# El siguiente bloque es para datos de IMERG-Late (half-hour)"
   ]
  },
  {
   "cell_type": "code",
   "execution_count": 47,
   "id": "a194f215",
   "metadata": {
    "ExecuteTime": {
     "end_time": "2024-04-15T14:42:39.517896Z",
     "start_time": "2024-04-15T14:42:20.169572Z"
    }
   },
   "outputs": [
    {
     "name": "stdout",
     "output_type": "stream",
     "text": [
      "Coordenadas objetivo: -31.277694 -64.301187\n",
      "Las coordenadas del punto de grilla mas cercano son: -31.25 -64.35\n",
      "Archivo  /home/msuarez/Documents/Script-Download_IMERG-F/202311_202404/3B-HHR-L.MS.MRG.3IMERG.20231211-S033000-E035959.0210.V06E.HDF5.nc4  no procesado\n",
      "\n",
      "Error  [Errno -51] NetCDF: Unknown file format: b'/home/msuarez/Documents/Script-Download_IMERG-F/202311_202404/3B-HHR-L.MS.MRG.3IMERG.20231211-S033000-E035959.0210.V06E.HDF5.nc4'\n",
      "Archivo  /home/msuarez/Documents/Script-Download_IMERG-F/202311_202404/3B-HHR-L.MS.MRG.3IMERG.20240124-S160000-E162959.0960.V06E.HDF5.nc4  no procesado\n",
      "\n",
      "Error  [Errno -51] NetCDF: Unknown file format: b'/home/msuarez/Documents/Script-Download_IMERG-F/202311_202404/3B-HHR-L.MS.MRG.3IMERG.20240124-S160000-E162959.0960.V06E.HDF5.nc4'\n",
      "Archivo  /home/msuarez/Documents/Script-Download_IMERG-F/202311_202404/3B-HHR-L.MS.MRG.3IMERG.20240317-S130000-E132959.0780.V06E.HDF5.nc4  no procesado\n",
      "\n",
      "Error  [Errno -51] NetCDF: Unknown file format: b'/home/msuarez/Documents/Script-Download_IMERG-F/202311_202404/3B-HHR-L.MS.MRG.3IMERG.20240317-S130000-E132959.0780.V06E.HDF5.nc4'\n",
      "Proceso Finalizado\n"
     ]
    }
   ],
   "source": [
    "target_lat = -31.277694\n",
    "target_lon = -64.301187\n",
    "\n",
    "print('Coordenadas objetivo:',target_lat,target_lon)\n",
    "\n",
    "df_imerg = pd.DataFrame()\n",
    "contador = 0\n",
    "\n",
    "for file in imergFilelist:\n",
    "    \n",
    "    try:\n",
    "        nc = NetCDFFile(file)\n",
    "\n",
    "        str_date = file.split('/')[-1].split('IMERG.')[-1][:8]\n",
    "        str_hour = file.split('/')[-1].split('-S')[-1][:4]\n",
    "        datetime_object = datetime.strptime(str_date+'-'+str_hour, '%Y%m%d-%H%M')\n",
    "\n",
    "        lat = nc.variables['lat'][:]\n",
    "        lon = nc.variables['lon'][:]\n",
    "        precip = nc.variables['precipitationCal'][:]\n",
    "\n",
    "        ilat = np.argmin( np.abs(lat-(target_lat)))\n",
    "        ilon = np.argmin( np.abs(lon-(target_lon)))\n",
    "\n",
    "        if contador < 1:\n",
    "            print('Las coordenadas del punto de grilla mas cercano son:',lat[ilat],lon[ilon])\n",
    "\n",
    "        contador = contador+1\n",
    "\n",
    "        df_temp = pd.DataFrame( { 'precip [mm]':float(precip[0,ilon,ilat]) } ,\n",
    "                               index=[datetime_object])\n",
    "\n",
    "        df_imerg = pd.concat([df_imerg, df_temp])\n",
    "    except Exception as e:\n",
    "        print('Archivo ',file,' no procesado\\n')\n",
    "        print('Error ',str(e))\n",
    "        continue\n",
    "    \n",
    "print('Proceso Finalizado')"
   ]
  },
  {
   "cell_type": "code",
   "execution_count": 48,
   "id": "25373d98",
   "metadata": {
    "ExecuteTime": {
     "end_time": "2024-04-15T14:42:47.942395Z",
     "start_time": "2024-04-15T14:42:47.937531Z"
    }
   },
   "outputs": [],
   "source": [
    "# ART = UTC-3\n",
    "df_imerg.index = df_imerg.index - pd.Timedelta(hours=3)"
   ]
  },
  {
   "cell_type": "code",
   "execution_count": 49,
   "id": "662760d1",
   "metadata": {
    "ExecuteTime": {
     "end_time": "2024-04-15T14:43:00.797855Z",
     "start_time": "2024-04-15T14:43:00.788214Z"
    }
   },
   "outputs": [
    {
     "data": {
      "text/html": [
       "<div>\n",
       "<style scoped>\n",
       "    .dataframe tbody tr th:only-of-type {\n",
       "        vertical-align: middle;\n",
       "    }\n",
       "\n",
       "    .dataframe tbody tr th {\n",
       "        vertical-align: top;\n",
       "    }\n",
       "\n",
       "    .dataframe thead th {\n",
       "        text-align: right;\n",
       "    }\n",
       "</style>\n",
       "<table border=\"1\" class=\"dataframe\">\n",
       "  <thead>\n",
       "    <tr style=\"text-align: right;\">\n",
       "      <th></th>\n",
       "      <th>precip [mm]</th>\n",
       "    </tr>\n",
       "  </thead>\n",
       "  <tbody>\n",
       "    <tr>\n",
       "      <th>2023-10-31 21:00:00</th>\n",
       "      <td>0.0</td>\n",
       "    </tr>\n",
       "    <tr>\n",
       "      <th>2023-10-31 21:30:00</th>\n",
       "      <td>0.0</td>\n",
       "    </tr>\n",
       "    <tr>\n",
       "      <th>2023-10-31 22:00:00</th>\n",
       "      <td>0.0</td>\n",
       "    </tr>\n",
       "    <tr>\n",
       "      <th>2023-10-31 22:30:00</th>\n",
       "      <td>0.0</td>\n",
       "    </tr>\n",
       "    <tr>\n",
       "      <th>2023-10-31 23:00:00</th>\n",
       "      <td>0.0</td>\n",
       "    </tr>\n",
       "    <tr>\n",
       "      <th>...</th>\n",
       "      <td>...</td>\n",
       "    </tr>\n",
       "    <tr>\n",
       "      <th>2024-04-10 18:30:00</th>\n",
       "      <td>0.0</td>\n",
       "    </tr>\n",
       "    <tr>\n",
       "      <th>2024-04-10 19:00:00</th>\n",
       "      <td>0.0</td>\n",
       "    </tr>\n",
       "    <tr>\n",
       "      <th>2024-04-10 19:30:00</th>\n",
       "      <td>0.0</td>\n",
       "    </tr>\n",
       "    <tr>\n",
       "      <th>2024-04-10 20:00:00</th>\n",
       "      <td>0.0</td>\n",
       "    </tr>\n",
       "    <tr>\n",
       "      <th>2024-04-10 20:30:00</th>\n",
       "      <td>0.0</td>\n",
       "    </tr>\n",
       "  </tbody>\n",
       "</table>\n",
       "<p>7761 rows × 1 columns</p>\n",
       "</div>"
      ],
      "text/plain": [
       "                     precip [mm]\n",
       "2023-10-31 21:00:00          0.0\n",
       "2023-10-31 21:30:00          0.0\n",
       "2023-10-31 22:00:00          0.0\n",
       "2023-10-31 22:30:00          0.0\n",
       "2023-10-31 23:00:00          0.0\n",
       "...                          ...\n",
       "2024-04-10 18:30:00          0.0\n",
       "2024-04-10 19:00:00          0.0\n",
       "2024-04-10 19:30:00          0.0\n",
       "2024-04-10 20:00:00          0.0\n",
       "2024-04-10 20:30:00          0.0\n",
       "\n",
       "[7761 rows x 1 columns]"
      ]
     },
     "execution_count": 49,
     "metadata": {},
     "output_type": "execute_result"
    }
   ],
   "source": [
    "df_imerg = df_imerg*0.5\n",
    "df_imerg"
   ]
  },
  {
   "cell_type": "code",
   "execution_count": 59,
   "id": "05a71680",
   "metadata": {
    "ExecuteTime": {
     "end_time": "2024-04-15T00:44:43.697974Z",
     "start_time": "2024-04-15T00:44:43.672091Z"
    }
   },
   "outputs": [],
   "source": [
    "# df_imerg.to_csv('/home/msuarez/Documents/Script-Download_IMERG-F/202311_202404/202311_202404.csv')"
   ]
  },
  {
   "cell_type": "code",
   "execution_count": 50,
   "id": "411ff953",
   "metadata": {
    "ExecuteTime": {
     "end_time": "2024-04-15T14:43:05.679795Z",
     "start_time": "2024-04-15T14:43:05.573525Z"
    }
   },
   "outputs": [
    {
     "data": {
      "image/png": "[encoded data removed]",
      "text/plain": [
       "<Figure size 936x360 with 1 Axes>"
      ]
     },
     "metadata": {
      "needs_background": "light"
     },
     "output_type": "display_data"
    }
   ],
   "source": [
    "import matplotlib.pyplot as plt\n",
    "\n",
    "plt.figure(figsize=(13,5))\n",
    "\n",
    "plt.plot(df_imerg.index,\n",
    "         df_imerg['precip [mm]'], label='IMERG-Late')\n",
    "\n",
    "plt.plot(ema_df.index,\n",
    "         ema_df['Registro de Lluvia [mm]'], label='Estación')\n",
    "\n",
    "plt.xlabel('Fecha-Hora',fontweight='bold')\n",
    "plt.ylabel('Precipitación [mm]',fontweight='bold')\n",
    "\n",
    "from matplotlib.ticker import StrMethodFormatter\n",
    "plt.gca().yaxis.set_major_formatter(StrMethodFormatter('{x:,.1f}'))\n",
    "\n",
    "plt.xticks(rotation=45)\n",
    "plt.legend(loc='upper left')\n",
    "\n",
    "plt.tight_layout()\n",
    "plt.show()"
   ]
  },
  {
   "cell_type": "code",
   "execution_count": 40,
   "id": "e07d1cde",
   "metadata": {
    "ExecuteTime": {
     "end_time": "2024-04-15T14:36:53.077039Z",
     "start_time": "2024-04-15T14:36:53.072126Z"
    }
   },
   "outputs": [
    {
     "data": {
      "text/plain": [
       "<class 'netCDF4._netCDF4.Variable'>\n",
       "float32 precipitationCal(time, lon, lat)\n",
       "    DimensionNames: time,lon,lat\n",
       "    Units: mm/hr\n",
       "    units: mm/hr\n",
       "    _FillValue: -9999.9\n",
       "    CodeMissingValue: -9999.9\n",
       "    origname: precipitationCal\n",
       "    fullnamepath: /Grid/precipitationCal\n",
       "    coordinates: Grid_time Grid_lon Grid_lat\n",
       "unlimited dimensions: \n",
       "current shape = (1, 112, 104)\n",
       "filling on"
      ]
     },
     "execution_count": 40,
     "metadata": {},
     "output_type": "execute_result"
    }
   ],
   "source": [
    "nc.variables['precipitationCal']"
   ]
  },
  {
   "cell_type": "code",
   "execution_count": 61,
   "id": "ef36141f",
   "metadata": {
    "ExecuteTime": {
     "end_time": "2024-04-15T14:46:02.727920Z",
     "start_time": "2024-04-15T14:46:02.591026Z"
    }
   },
   "outputs": [
    {
     "data": {
      "image/png": "[encoded data removed]",
      "text/plain": [
       "<Figure size 936x360 with 1 Axes>"
      ]
     },
     "metadata": {
      "needs_background": "light"
     },
     "output_type": "display_data"
    }
   ],
   "source": [
    "inicio = datetime.strptime('2024-01-07 00:00', '%Y-%m-%d %H:%M')  # Fecha inicial de los datos a analizar\n",
    "fin    = datetime.strptime('2024-01-08 00:00', '%Y-%m-%d %H:%M')\n",
    "\n",
    "plt.figure(figsize=(13,5))\n",
    "\n",
    "plt.plot(df_imerg[inicio:fin].index,\n",
    "         df_imerg[inicio:fin]['precip [mm]'], label='IMERG-Late')\n",
    "\n",
    "plt.plot(ema_df[inicio:fin].index,\n",
    "         ema_df[inicio:fin]['Registro de Lluvia [mm]'], label='Estación')\n",
    "\n",
    "plt.xlabel('Fecha-Hora',fontweight='bold')\n",
    "plt.ylabel('Precipitación [mm]',fontweight='bold')\n",
    "\n",
    "from matplotlib.ticker import StrMethodFormatter\n",
    "plt.gca().yaxis.set_major_formatter(StrMethodFormatter('{x:,.1f}'))\n",
    "\n",
    "plt.xticks(rotation=45)\n",
    "plt.legend(loc='upper left')\n",
    "\n",
    "plt.tight_layout()\n",
    "plt.show()"
   ]
  },
  {
   "cell_type": "code",
   "execution_count": 51,
   "id": "eff2e254",
   "metadata": {
    "ExecuteTime": {
     "end_time": "2024-04-15T14:43:32.200330Z",
     "start_time": "2024-04-15T14:43:32.186712Z"
    }
   },
   "outputs": [
    {
     "data": {
      "text/html": [
       "<div>\n",
       "<style scoped>\n",
       "    .dataframe tbody tr th:only-of-type {\n",
       "        vertical-align: middle;\n",
       "    }\n",
       "\n",
       "    .dataframe tbody tr th {\n",
       "        vertical-align: top;\n",
       "    }\n",
       "\n",
       "    .dataframe thead th {\n",
       "        text-align: right;\n",
       "    }\n",
       "</style>\n",
       "<table border=\"1\" class=\"dataframe\">\n",
       "  <thead>\n",
       "    <tr style=\"text-align: right;\">\n",
       "      <th></th>\n",
       "      <th>precip [mm]</th>\n",
       "    </tr>\n",
       "  </thead>\n",
       "  <tbody>\n",
       "    <tr>\n",
       "      <th>2023-11-01 06:00:00</th>\n",
       "      <td>0.050003</td>\n",
       "    </tr>\n",
       "    <tr>\n",
       "      <th>2023-11-01 06:30:00</th>\n",
       "      <td>0.033777</td>\n",
       "    </tr>\n",
       "    <tr>\n",
       "      <th>2023-11-01 07:00:00</th>\n",
       "      <td>0.059332</td>\n",
       "    </tr>\n",
       "    <tr>\n",
       "      <th>2023-11-01 07:30:00</th>\n",
       "      <td>0.173443</td>\n",
       "    </tr>\n",
       "    <tr>\n",
       "      <th>2023-11-01 08:00:00</th>\n",
       "      <td>0.162114</td>\n",
       "    </tr>\n",
       "    <tr>\n",
       "      <th>...</th>\n",
       "      <td>...</td>\n",
       "    </tr>\n",
       "    <tr>\n",
       "      <th>2024-04-10 16:00:00</th>\n",
       "      <td>0.000000</td>\n",
       "    </tr>\n",
       "    <tr>\n",
       "      <th>2024-04-10 16:30:00</th>\n",
       "      <td>0.000000</td>\n",
       "    </tr>\n",
       "    <tr>\n",
       "      <th>2024-04-10 17:00:00</th>\n",
       "      <td>0.000000</td>\n",
       "    </tr>\n",
       "    <tr>\n",
       "      <th>2024-04-10 17:30:00</th>\n",
       "      <td>0.000000</td>\n",
       "    </tr>\n",
       "    <tr>\n",
       "      <th>2024-04-10 18:00:00</th>\n",
       "      <td>0.000000</td>\n",
       "    </tr>\n",
       "  </tbody>\n",
       "</table>\n",
       "<p>4039 rows × 1 columns</p>\n",
       "</div>"
      ],
      "text/plain": [
       "                     precip [mm]\n",
       "2023-11-01 06:00:00     0.050003\n",
       "2023-11-01 06:30:00     0.033777\n",
       "2023-11-01 07:00:00     0.059332\n",
       "2023-11-01 07:30:00     0.173443\n",
       "2023-11-01 08:00:00     0.162114\n",
       "...                          ...\n",
       "2024-04-10 16:00:00     0.000000\n",
       "2024-04-10 16:30:00     0.000000\n",
       "2024-04-10 17:00:00     0.000000\n",
       "2024-04-10 17:30:00     0.000000\n",
       "2024-04-10 18:00:00     0.000000\n",
       "\n",
       "[4039 rows x 1 columns]"
      ]
     },
     "execution_count": 51,
     "metadata": {},
     "output_type": "execute_result"
    }
   ],
   "source": [
    "# Agrupo el dataframe de acuerdo a la precipitación acumulada diaria en un rango del día\n",
    "df_imerg_date_filtered_1 = df_imerg.between_time('6:00', '18:00')\n",
    "df_imerg_date_filtered_1"
   ]
  },
  {
   "cell_type": "code",
   "execution_count": 52,
   "id": "3902ae7a",
   "metadata": {
    "ExecuteTime": {
     "end_time": "2024-04-15T14:43:34.810138Z",
     "start_time": "2024-04-15T14:43:34.797521Z"
    }
   },
   "outputs": [
    {
     "data": {
      "text/html": [
       "<div>\n",
       "<style scoped>\n",
       "    .dataframe tbody tr th:only-of-type {\n",
       "        vertical-align: middle;\n",
       "    }\n",
       "\n",
       "    .dataframe tbody tr th {\n",
       "        vertical-align: top;\n",
       "    }\n",
       "\n",
       "    .dataframe thead th {\n",
       "        text-align: right;\n",
       "    }\n",
       "</style>\n",
       "<table border=\"1\" class=\"dataframe\">\n",
       "  <thead>\n",
       "    <tr style=\"text-align: right;\">\n",
       "      <th></th>\n",
       "      <th>precip [mm]</th>\n",
       "    </tr>\n",
       "  </thead>\n",
       "  <tbody>\n",
       "    <tr>\n",
       "      <th>2023-11-01 00:00:00</th>\n",
       "      <td>0.0</td>\n",
       "    </tr>\n",
       "    <tr>\n",
       "      <th>2023-11-01 00:30:00</th>\n",
       "      <td>0.0</td>\n",
       "    </tr>\n",
       "    <tr>\n",
       "      <th>2023-11-01 01:00:00</th>\n",
       "      <td>0.0</td>\n",
       "    </tr>\n",
       "    <tr>\n",
       "      <th>2023-11-01 01:30:00</th>\n",
       "      <td>0.0</td>\n",
       "    </tr>\n",
       "    <tr>\n",
       "      <th>2023-11-01 02:00:00</th>\n",
       "      <td>0.0</td>\n",
       "    </tr>\n",
       "    <tr>\n",
       "      <th>...</th>\n",
       "      <td>...</td>\n",
       "    </tr>\n",
       "    <tr>\n",
       "      <th>2024-04-10 04:00:00</th>\n",
       "      <td>0.0</td>\n",
       "    </tr>\n",
       "    <tr>\n",
       "      <th>2024-04-10 04:30:00</th>\n",
       "      <td>0.0</td>\n",
       "    </tr>\n",
       "    <tr>\n",
       "      <th>2024-04-10 05:00:00</th>\n",
       "      <td>0.0</td>\n",
       "    </tr>\n",
       "    <tr>\n",
       "      <th>2024-04-10 05:30:00</th>\n",
       "      <td>0.0</td>\n",
       "    </tr>\n",
       "    <tr>\n",
       "      <th>2024-04-10 06:00:00</th>\n",
       "      <td>0.0</td>\n",
       "    </tr>\n",
       "  </tbody>\n",
       "</table>\n",
       "<p>2102 rows × 1 columns</p>\n",
       "</div>"
      ],
      "text/plain": [
       "                     precip [mm]\n",
       "2023-11-01 00:00:00          0.0\n",
       "2023-11-01 00:30:00          0.0\n",
       "2023-11-01 01:00:00          0.0\n",
       "2023-11-01 01:30:00          0.0\n",
       "2023-11-01 02:00:00          0.0\n",
       "...                          ...\n",
       "2024-04-10 04:00:00          0.0\n",
       "2024-04-10 04:30:00          0.0\n",
       "2024-04-10 05:00:00          0.0\n",
       "2024-04-10 05:30:00          0.0\n",
       "2024-04-10 06:00:00          0.0\n",
       "\n",
       "[2102 rows x 1 columns]"
      ]
     },
     "execution_count": 52,
     "metadata": {},
     "output_type": "execute_result"
    }
   ],
   "source": [
    "# Agrupo el dataframe de acuerdo a la precipitación acumulada diaria en un rango del día\n",
    "df_imerg_date_filtered_2 = df_imerg.between_time('0:00', '6:00')\n",
    "df_imerg_date_filtered_2"
   ]
  },
  {
   "cell_type": "code",
   "execution_count": 53,
   "id": "c629df7b",
   "metadata": {
    "ExecuteTime": {
     "end_time": "2024-04-15T14:43:38.208412Z",
     "start_time": "2024-04-15T14:43:38.196454Z"
    }
   },
   "outputs": [
    {
     "data": {
      "text/plain": [
       "2023-11-01    1.508077\n",
       "2023-11-02    0.104781\n",
       "2023-11-03    0.000000\n",
       "2023-11-04    0.000000\n",
       "2023-11-05    0.000000\n",
       "                ...   \n",
       "2024-04-06    8.092508\n",
       "2024-04-07    0.000000\n",
       "2024-04-08    0.000000\n",
       "2024-04-09    0.000000\n",
       "2024-04-10    0.000000\n",
       "Name: precip [mm], Length: 162, dtype: float64"
      ]
     },
     "execution_count": 53,
     "metadata": {},
     "output_type": "execute_result"
    }
   ],
   "source": [
    "# Sumo los valores de precip correspondientes a cada dia\n",
    "df_imerg_filt_1 = df_imerg_date_filtered_1.groupby(df_imerg_date_filtered_1.index.date)['precip [mm]'].sum()\n",
    "df_imerg_filt_1"
   ]
  },
  {
   "cell_type": "code",
   "execution_count": 54,
   "id": "a41f9352",
   "metadata": {
    "ExecuteTime": {
     "end_time": "2024-04-15T14:43:39.706850Z",
     "start_time": "2024-04-15T14:43:39.696396Z"
    }
   },
   "outputs": [
    {
     "data": {
      "text/plain": [
       "2023-11-01    0.114678\n",
       "2023-11-02    2.300117\n",
       "2023-11-03    0.000000\n",
       "2023-11-04    0.000000\n",
       "2023-11-05    0.000000\n",
       "                ...   \n",
       "2024-04-06    0.235273\n",
       "2024-04-07    0.000000\n",
       "2024-04-08    0.000000\n",
       "2024-04-09    0.000000\n",
       "2024-04-10    0.000000\n",
       "Name: precip [mm], Length: 162, dtype: float64"
      ]
     },
     "execution_count": 54,
     "metadata": {},
     "output_type": "execute_result"
    }
   ],
   "source": [
    "# Sumo los valores de precip correspondientes a cada dia\n",
    "df_imerg_filt_2 = df_imerg_date_filtered_2.groupby(df_imerg_date_filtered_2.index.date)['precip [mm]'].sum()\n",
    "df_imerg_filt_2"
   ]
  },
  {
   "cell_type": "code",
   "execution_count": 80,
   "id": "104a343d",
   "metadata": {
    "ExecuteTime": {
     "end_time": "2024-04-15T00:56:28.958238Z",
     "start_time": "2024-04-15T00:56:28.954564Z"
    }
   },
   "outputs": [
    {
     "data": {
      "text/plain": [
       "2024-02-08    229.346517\n",
       "2024-02-06    134.538793\n",
       "2024-02-12    132.367371\n",
       "2024-03-27    111.776350\n",
       "2024-02-04     77.843173\n",
       "2024-01-07     57.822868\n",
       "2024-03-02     47.406100\n",
       "2023-12-13     44.760554\n",
       "2024-02-07     35.093020\n",
       "2024-01-14     26.948029\n",
       "2024-01-04     21.746961\n",
       "2023-11-21     20.856792\n",
       "2024-04-06     16.185016\n",
       "2024-01-16     15.557917\n",
       "2024-02-11     15.247201\n",
       "2024-01-11     12.716018\n",
       "2024-01-01      7.647796\n",
       "2023-12-16      7.209438\n",
       "2024-02-23      6.700260\n",
       "2024-03-03      6.069596\n",
       "Name: precip [mm], dtype: float64"
      ]
     },
     "execution_count": 80,
     "metadata": {},
     "output_type": "execute_result"
    }
   ],
   "source": [
    "df_imerg_filt.sort_values(ascending=False).head(20)"
   ]
  },
  {
   "cell_type": "code",
   "execution_count": 56,
   "id": "7458345a",
   "metadata": {
    "ExecuteTime": {
     "end_time": "2024-04-15T14:43:53.724699Z",
     "start_time": "2024-04-15T14:43:53.717800Z"
    }
   },
   "outputs": [
    {
     "data": {
      "text/plain": [
       "12"
      ]
     },
     "execution_count": 56,
     "metadata": {},
     "output_type": "execute_result"
    }
   ],
   "source": [
    "# Contamos el numero de valores según una condición\n",
    "df_imerg_filt_1[df_imerg_filt_1 > 10 ].count() "
   ]
  },
  {
   "cell_type": "code",
   "execution_count": 57,
   "id": "e32b38d4",
   "metadata": {
    "ExecuteTime": {
     "end_time": "2024-04-15T14:44:03.590911Z",
     "start_time": "2024-04-15T14:44:03.583708Z"
    }
   },
   "outputs": [
    {
     "data": {
      "text/plain": [
       "2023-11-21     10.428396\n",
       "2023-12-13     22.380277\n",
       "2024-01-04     10.873481\n",
       "2024-01-07     28.911434\n",
       "2024-01-14     13.474014\n",
       "2024-02-04     38.921586\n",
       "2024-02-06     67.269396\n",
       "2024-02-07     17.546510\n",
       "2024-02-08    114.673258\n",
       "2024-02-12     66.183686\n",
       "2024-03-02     23.703050\n",
       "2024-03-27     55.888175\n",
       "Name: precip [mm], dtype: float64"
      ]
     },
     "execution_count": 57,
     "metadata": {},
     "output_type": "execute_result"
    }
   ],
   "source": [
    "df_imerg_filt_1[df_imerg_filt_1 > 10 ]"
   ]
  },
  {
   "cell_type": "code",
   "execution_count": 58,
   "id": "68d8754d",
   "metadata": {
    "ExecuteTime": {
     "end_time": "2024-04-15T14:44:09.512407Z",
     "start_time": "2024-04-15T14:44:09.507997Z"
    }
   },
   "outputs": [
    {
     "data": {
      "text/plain": [
       "10"
      ]
     },
     "execution_count": 58,
     "metadata": {},
     "output_type": "execute_result"
    }
   ],
   "source": [
    "# Contamos el numero de valores según una condición\n",
    "df_imerg_filt_2[df_imerg_filt_2 > 20 ].count() "
   ]
  },
  {
   "cell_type": "code",
   "execution_count": 59,
   "id": "2ff6cf32",
   "metadata": {
    "ExecuteTime": {
     "end_time": "2024-04-15T14:44:13.263556Z",
     "start_time": "2024-04-15T14:44:13.256514Z"
    }
   },
   "outputs": [
    {
     "data": {
      "text/plain": [
       "2023-11-16    41.831171\n",
       "2023-12-16    34.658632\n",
       "2023-12-18    71.281076\n",
       "2023-12-29    20.669747\n",
       "2024-01-01    56.048735\n",
       "2024-01-10    24.192885\n",
       "2024-02-09    73.247985\n",
       "2024-02-23    47.560182\n",
       "2024-03-03    37.103873\n",
       "2024-03-28    20.623566\n",
       "Name: precip [mm], dtype: float64"
      ]
     },
     "execution_count": 59,
     "metadata": {},
     "output_type": "execute_result"
    }
   ],
   "source": [
    "df_imerg_filt_2[df_imerg_filt_2 > 20 ]"
   ]
  },
  {
   "cell_type": "code",
   "execution_count": 60,
   "id": "79ab2d23",
   "metadata": {
    "ExecuteTime": {
     "end_time": "2024-04-15T14:44:23.890330Z",
     "start_time": "2024-04-15T14:44:23.878498Z"
    }
   },
   "outputs": [
    {
     "data": {
      "text/html": [
       "<div>\n",
       "<style scoped>\n",
       "    .dataframe tbody tr th:only-of-type {\n",
       "        vertical-align: middle;\n",
       "    }\n",
       "\n",
       "    .dataframe tbody tr th {\n",
       "        vertical-align: top;\n",
       "    }\n",
       "\n",
       "    .dataframe thead th {\n",
       "        text-align: right;\n",
       "    }\n",
       "</style>\n",
       "<table border=\"1\" class=\"dataframe\">\n",
       "  <thead>\n",
       "    <tr style=\"text-align: right;\">\n",
       "      <th></th>\n",
       "      <th>precip [mm]</th>\n",
       "      <th>precip [mm]</th>\n",
       "    </tr>\n",
       "  </thead>\n",
       "  <tbody>\n",
       "    <tr>\n",
       "      <th>2023-11-21</th>\n",
       "      <td>10.428396</td>\n",
       "      <td>NaN</td>\n",
       "    </tr>\n",
       "    <tr>\n",
       "      <th>2023-12-13</th>\n",
       "      <td>22.380277</td>\n",
       "      <td>NaN</td>\n",
       "    </tr>\n",
       "    <tr>\n",
       "      <th>2024-01-04</th>\n",
       "      <td>10.873481</td>\n",
       "      <td>NaN</td>\n",
       "    </tr>\n",
       "    <tr>\n",
       "      <th>2024-01-07</th>\n",
       "      <td>28.911434</td>\n",
       "      <td>NaN</td>\n",
       "    </tr>\n",
       "    <tr>\n",
       "      <th>2024-01-14</th>\n",
       "      <td>13.474014</td>\n",
       "      <td>NaN</td>\n",
       "    </tr>\n",
       "    <tr>\n",
       "      <th>2024-02-04</th>\n",
       "      <td>38.921586</td>\n",
       "      <td>NaN</td>\n",
       "    </tr>\n",
       "    <tr>\n",
       "      <th>2024-02-06</th>\n",
       "      <td>67.269396</td>\n",
       "      <td>NaN</td>\n",
       "    </tr>\n",
       "    <tr>\n",
       "      <th>2024-02-07</th>\n",
       "      <td>17.546510</td>\n",
       "      <td>NaN</td>\n",
       "    </tr>\n",
       "    <tr>\n",
       "      <th>2024-02-08</th>\n",
       "      <td>114.673258</td>\n",
       "      <td>NaN</td>\n",
       "    </tr>\n",
       "    <tr>\n",
       "      <th>2024-02-12</th>\n",
       "      <td>66.183686</td>\n",
       "      <td>NaN</td>\n",
       "    </tr>\n",
       "    <tr>\n",
       "      <th>2024-03-02</th>\n",
       "      <td>23.703050</td>\n",
       "      <td>NaN</td>\n",
       "    </tr>\n",
       "    <tr>\n",
       "      <th>2024-03-27</th>\n",
       "      <td>55.888175</td>\n",
       "      <td>NaN</td>\n",
       "    </tr>\n",
       "    <tr>\n",
       "      <th>2023-11-16</th>\n",
       "      <td>NaN</td>\n",
       "      <td>41.831171</td>\n",
       "    </tr>\n",
       "    <tr>\n",
       "      <th>2023-12-16</th>\n",
       "      <td>NaN</td>\n",
       "      <td>34.658632</td>\n",
       "    </tr>\n",
       "    <tr>\n",
       "      <th>2023-12-18</th>\n",
       "      <td>NaN</td>\n",
       "      <td>71.281076</td>\n",
       "    </tr>\n",
       "    <tr>\n",
       "      <th>2023-12-29</th>\n",
       "      <td>NaN</td>\n",
       "      <td>20.669747</td>\n",
       "    </tr>\n",
       "    <tr>\n",
       "      <th>2024-01-01</th>\n",
       "      <td>NaN</td>\n",
       "      <td>56.048735</td>\n",
       "    </tr>\n",
       "    <tr>\n",
       "      <th>2024-01-10</th>\n",
       "      <td>NaN</td>\n",
       "      <td>24.192885</td>\n",
       "    </tr>\n",
       "    <tr>\n",
       "      <th>2024-02-09</th>\n",
       "      <td>NaN</td>\n",
       "      <td>73.247985</td>\n",
       "    </tr>\n",
       "    <tr>\n",
       "      <th>2024-02-23</th>\n",
       "      <td>NaN</td>\n",
       "      <td>47.560182</td>\n",
       "    </tr>\n",
       "    <tr>\n",
       "      <th>2024-03-03</th>\n",
       "      <td>NaN</td>\n",
       "      <td>37.103873</td>\n",
       "    </tr>\n",
       "    <tr>\n",
       "      <th>2024-03-28</th>\n",
       "      <td>NaN</td>\n",
       "      <td>20.623566</td>\n",
       "    </tr>\n",
       "  </tbody>\n",
       "</table>\n",
       "</div>"
      ],
      "text/plain": [
       "            precip [mm]  precip [mm]\n",
       "2023-11-21    10.428396          NaN\n",
       "2023-12-13    22.380277          NaN\n",
       "2024-01-04    10.873481          NaN\n",
       "2024-01-07    28.911434          NaN\n",
       "2024-01-14    13.474014          NaN\n",
       "2024-02-04    38.921586          NaN\n",
       "2024-02-06    67.269396          NaN\n",
       "2024-02-07    17.546510          NaN\n",
       "2024-02-08   114.673258          NaN\n",
       "2024-02-12    66.183686          NaN\n",
       "2024-03-02    23.703050          NaN\n",
       "2024-03-27    55.888175          NaN\n",
       "2023-11-16          NaN    41.831171\n",
       "2023-12-16          NaN    34.658632\n",
       "2023-12-18          NaN    71.281076\n",
       "2023-12-29          NaN    20.669747\n",
       "2024-01-01          NaN    56.048735\n",
       "2024-01-10          NaN    24.192885\n",
       "2024-02-09          NaN    73.247985\n",
       "2024-02-23          NaN    47.560182\n",
       "2024-03-03          NaN    37.103873\n",
       "2024-03-28          NaN    20.623566"
      ]
     },
     "execution_count": 60,
     "metadata": {},
     "output_type": "execute_result"
    }
   ],
   "source": [
    "pd.concat([df_imerg_filt_1[df_imerg_filt_1 > 10 ],\n",
    "          df_imerg_filt_2[df_imerg_filt_2 > 20 ]], axis=1)"
   ]
  },
  {
   "cell_type": "code",
   "execution_count": 66,
   "id": "6f827255",
   "metadata": {
    "ExecuteTime": {
     "end_time": "2024-04-15T00:52:09.206148Z",
     "start_time": "2024-04-15T00:52:09.194805Z"
    }
   },
   "outputs": [
    {
     "data": {
      "text/plain": [
       "2023-11-01     1.0\n",
       "2023-11-02     0.0\n",
       "2023-11-03     0.0\n",
       "2023-11-04     0.0\n",
       "2023-11-05     0.0\n",
       "              ... \n",
       "2024-04-06    24.0\n",
       "2024-04-07     0.2\n",
       "2024-04-08     0.2\n",
       "2024-04-09     0.0\n",
       "2024-04-10     3.0\n",
       "Name: Registro de Lluvia [mm], Length: 162, dtype: float64"
      ]
     },
     "execution_count": 66,
     "metadata": {},
     "output_type": "execute_result"
    }
   ],
   "source": [
    "# Agrupo el dataframe de acuerdo a la precipitación acumulada diaria en un rango del día\n",
    "ema_df_date_filtered = ema_df.between_time('6:00', '18:00')\n",
    "df_ema_filt = ema_df_date_filtered.groupby(ema_df_date_filtered.index.date)['Registro de Lluvia [mm]'].sum()\n",
    "df_ema_filt"
   ]
  },
  {
   "cell_type": "code",
   "execution_count": 111,
   "id": "8fdad14e",
   "metadata": {
    "ExecuteTime": {
     "end_time": "2024-04-15T01:04:36.796895Z",
     "start_time": "2024-04-15T01:04:36.791761Z"
    }
   },
   "outputs": [
    {
     "data": {
      "text/plain": [
       "2024-03-27    61.0\n",
       "2024-04-06    24.0\n",
       "2024-02-12    22.2\n",
       "2024-02-25     8.8\n",
       "2023-11-30     4.2\n",
       "2024-01-16     3.8\n",
       "2024-01-01     3.6\n",
       "2024-04-10     3.0\n",
       "2024-02-11     3.0\n",
       "2024-03-14     3.0\n",
       "2024-02-09     2.8\n",
       "2024-03-03     1.8\n",
       "2023-11-29     1.8\n",
       "2024-03-17     1.8\n",
       "2023-12-19     1.6\n",
       "2023-12-03     1.6\n",
       "2023-12-16     1.2\n",
       "2024-02-08     1.0\n",
       "2024-01-10     1.0\n",
       "2023-12-06     1.0\n",
       "Name: Registro de Lluvia [mm], dtype: float64"
      ]
     },
     "execution_count": 111,
     "metadata": {},
     "output_type": "execute_result"
    }
   ],
   "source": [
    "df_ema_filt.sort_values(ascending=False).head(20)"
   ]
  },
  {
   "cell_type": "code",
   "execution_count": 68,
   "id": "1721fdec",
   "metadata": {
    "ExecuteTime": {
     "end_time": "2024-04-15T00:53:31.906361Z",
     "start_time": "2024-04-15T00:53:31.900559Z"
    }
   },
   "outputs": [
    {
     "data": {
      "text/plain": [
       "4"
      ]
     },
     "execution_count": 68,
     "metadata": {},
     "output_type": "execute_result"
    }
   ],
   "source": [
    "# Contamos el numero de valores según una condición\n",
    "df_ema_filt[df_ema_filt > 5 ].count() "
   ]
  },
  {
   "cell_type": "code",
   "execution_count": 71,
   "id": "471ff659",
   "metadata": {
    "ExecuteTime": {
     "end_time": "2024-04-15T00:54:22.731518Z",
     "start_time": "2024-04-15T00:54:22.601002Z"
    }
   },
   "outputs": [
    {
     "data": {
      "image/png": "[encoded data removed]",
      "text/plain": [
       "<Figure size 936x360 with 1 Axes>"
      ]
     },
     "metadata": {
      "needs_background": "light"
     },
     "output_type": "display_data"
    }
   ],
   "source": [
    "plt.figure(figsize=(13,5))\n",
    "\n",
    "plt.plot(df_imerg_filt.index,\n",
    "         df_imerg_filt, label='IMERG-Late')\n",
    "\n",
    "plt.plot(df_ema_filt.index,\n",
    "         df_ema_filt, label='Estación')\n",
    "\n",
    "plt.xlabel('Fecha-Hora',fontweight='bold')\n",
    "plt.ylabel('Precipitación [mm]',fontweight='bold')\n",
    "\n",
    "from matplotlib.ticker import StrMethodFormatter\n",
    "plt.gca().yaxis.set_major_formatter(StrMethodFormatter('{x:,.1f}'))\n",
    "\n",
    "plt.xticks(rotation=45)\n",
    "plt.legend(loc='upper left')\n",
    "\n",
    "plt.tight_layout()\n",
    "plt.show()"
   ]
  },
  {
   "cell_type": "code",
   "execution_count": 129,
   "id": "3bf63c2c",
   "metadata": {
    "ExecuteTime": {
     "end_time": "2024-04-15T01:14:02.805676Z",
     "start_time": "2024-04-15T01:14:02.701440Z"
    }
   },
   "outputs": [
    {
     "data": {
      "image/png": "[encoded data removed]",
      "text/plain": [
       "<Figure size 936x576 with 1 Axes>"
      ]
     },
     "metadata": {
      "needs_background": "light"
     },
     "output_type": "display_data"
    }
   ],
   "source": [
    "plt.figure(figsize=(13,8))\n",
    "\n",
    "nro = 50\n",
    "\n",
    "plt.scatter(df_ema_filt.sort_values(ascending=False).head(nro).index,\n",
    "            df_ema_filt.sort_values(ascending=False).head(nro), label='Estacion')\n",
    "\n",
    "plt.scatter(df_imerg_filt.sort_values(ascending=False).head(nro).index,\n",
    "            df_imerg_filt.sort_values(ascending=False).head(nro), label='IMERG')\n",
    "\n",
    "plt.legend()\n",
    "plt.show()"
   ]
  },
  {
   "cell_type": "markdown",
   "id": "3d2ff6ba",
   "metadata": {},
   "source": [
    "# El siguiente bloque es para datos de IMERG-Late (diario)"
   ]
  },
  {
   "cell_type": "code",
   "execution_count": null,
   "id": "fda4d0c1",
   "metadata": {
    "ExecuteTime": {
     "end_time": "2024-04-14T23:57:24.949711Z",
     "start_time": "2024-04-14T23:57:24.891323Z"
    }
   },
   "outputs": [],
   "source": [
    "target_lat = -31.277694\n",
    "target_lon = -64.301187\n",
    "\n",
    "print('Coordenadas objetivo:',target_lat,target_lon)\n",
    "\n",
    "df_imerg = pd.DataFrame()\n",
    "contador = 0\n",
    "\n",
    "for file in imergFilelist:\n",
    "\n",
    "    nc = NetCDFFile(file)\n",
    "\n",
    "    datetime_object = datetime.strptime(nc.BeginDate, '%Y-%m-%d')\n",
    "    \n",
    "    lat = nc.variables['lat'][:]\n",
    "    lon = nc.variables['lon'][:]\n",
    "    precip = nc.variables['precipitationCal'][:]\n",
    "\n",
    "    ilat = np.argmin( np.abs(lat-(target_lat)))\n",
    "    ilon = np.argmin( np.abs(lon-(target_lon)))\n",
    "    \n",
    "    if contador < 1:\n",
    "        print('Las coordenadas del punto de grilla mas cercano son:',lat[ilat],lon[ilon])\n",
    "\n",
    "    contador = contador+1\n",
    "\n",
    "    df_temp = pd.DataFrame( { 'precip [mm]':float(precip[0,ilon,ilat]) } ,\n",
    "                           index=[datetime_object])\n",
    "\n",
    "    df_imerg = pd.concat([df_imerg, df_temp])\n",
    "    \n",
    "print('Proceso Finalizado')"
   ]
  },
  {
   "cell_type": "code",
   "execution_count": 5,
   "id": "fc5d7883",
   "metadata": {
    "ExecuteTime": {
     "end_time": "2024-04-14T23:57:38.784650Z",
     "start_time": "2024-04-14T23:57:38.769858Z"
    }
   },
   "outputs": [
    {
     "data": {
      "text/html": [
       "<div>\n",
       "<style scoped>\n",
       "    .dataframe tbody tr th:only-of-type {\n",
       "        vertical-align: middle;\n",
       "    }\n",
       "\n",
       "    .dataframe tbody tr th {\n",
       "        vertical-align: top;\n",
       "    }\n",
       "\n",
       "    .dataframe thead th {\n",
       "        text-align: right;\n",
       "    }\n",
       "</style>\n",
       "<table border=\"1\" class=\"dataframe\">\n",
       "  <thead>\n",
       "    <tr style=\"text-align: right;\">\n",
       "      <th></th>\n",
       "    </tr>\n",
       "  </thead>\n",
       "  <tbody>\n",
       "  </tbody>\n",
       "</table>\n",
       "</div>"
      ],
      "text/plain": [
       "Empty DataFrame\n",
       "Columns: []\n",
       "Index: []"
      ]
     },
     "execution_count": 5,
     "metadata": {},
     "output_type": "execute_result"
    }
   ],
   "source": [
    "df_imerg"
   ]
  },
  {
   "cell_type": "code",
   "execution_count": 61,
   "id": "ae9d0e09",
   "metadata": {
    "ExecuteTime": {
     "end_time": "2024-04-11T00:19:22.614189Z",
     "start_time": "2024-04-11T00:19:22.604887Z"
    }
   },
   "outputs": [
    {
     "data": {
      "text/plain": [
       "precip [mm]    7\n",
       "dtype: int64"
      ]
     },
     "execution_count": 61,
     "metadata": {},
     "output_type": "execute_result"
    }
   ],
   "source": [
    "# Contamos el numero de valores según una condición\n",
    "df_imerg[df_imerg > 5 ].count() "
   ]
  },
  {
   "cell_type": "code",
   "execution_count": 55,
   "id": "bfd18478",
   "metadata": {
    "ExecuteTime": {
     "end_time": "2024-04-11T00:09:11.947623Z",
     "start_time": "2024-04-11T00:09:11.944638Z"
    }
   },
   "outputs": [],
   "source": [
    "# df_imerg.to_csv('/home/msuarez/Desktop/IMERG_F_20200323_2115-20200329_2045.csv')"
   ]
  },
  {
   "cell_type": "code",
   "execution_count": 62,
   "id": "eacd6caf",
   "metadata": {
    "ExecuteTime": {
     "end_time": "2024-04-11T00:19:24.657722Z",
     "start_time": "2024-04-11T00:19:24.523841Z"
    }
   },
   "outputs": [
    {
     "data": {
      "image/png": "[encoded data removed]",
      "text/plain": [
       "<Figure size 936x360 with 1 Axes>"
      ]
     },
     "metadata": {
      "needs_background": "light"
     },
     "output_type": "display_data"
    }
   ],
   "source": [
    "import matplotlib.pyplot as plt\n",
    "\n",
    "plt.figure(figsize=(13,5))\n",
    "\n",
    "plt.plot(df_imerg.index,\n",
    "         df_imerg['precip [mm]'], label='IMERG-Late')\n",
    "\n",
    "plt.xlabel('Fecha-Hora',fontweight='bold')\n",
    "plt.ylabel('Precipitación [mm]',fontweight='bold')\n",
    "\n",
    "from matplotlib.ticker import StrMethodFormatter\n",
    "plt.gca().yaxis.set_major_formatter(StrMethodFormatter('{x:,.1f}'))\n",
    "\n",
    "plt.xticks(rotation=45)\n",
    "plt.legend(loc='upper left')\n",
    "\n",
    "plt.tight_layout()\n",
    "plt.show()"
   ]
  },
  {
   "cell_type": "code",
   "execution_count": null,
   "id": "b9ad3838",
   "metadata": {},
   "outputs": [],
   "source": []
  }
 ],
 "metadata": {
  "kernelspec": {
   "display_name": "Python 3",
   "language": "python",
   "name": "python3"
  },
  "language_info": {
   "codemirror_mode": {
    "name": "ipython",
    "version": 3
   },
   "file_extension": ".py",
   "mimetype": "text/x-python",
   "name": "python",
   "nbconvert_exporter": "python",
   "pygments_lexer": "ipython3",
   "version": "3.8.10"
  }
 },
 "nbformat": 4,
 "nbformat_minor": 5
}
