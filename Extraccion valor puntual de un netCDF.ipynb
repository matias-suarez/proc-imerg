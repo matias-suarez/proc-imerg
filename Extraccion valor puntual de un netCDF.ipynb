{
 "cells": [
  {
   "cell_type": "code",
   "execution_count": 1,
   "id": "46e20b0e",
   "metadata": {
    "ExecuteTime": {
     "end_time": "2024-04-14T22:48:55.802129Z",
     "start_time": "2024-04-14T22:48:55.475904Z"
    }
   },
   "outputs": [],
   "source": [
    "import glob\n",
    "from netCDF4 import Dataset as NetCDFFile \n",
    "from datetime import datetime\n",
    "import pandas as pd\n",
    "import numpy as np"
   ]
  },
  {
   "cell_type": "code",
   "execution_count": 61,
   "id": "26d61b04",
   "metadata": {
    "ExecuteTime": {
     "end_time": "2024-04-15T00:48:48.497273Z",
     "start_time": "2024-04-15T00:48:47.496906Z"
    }
   },
   "outputs": [],
   "source": [
    "path = '/home/msuarez/Documents/Script-Download_IMERG-F/202311_202404/'\n",
    "\n",
    "ema_df = pd.read_excel(path+'ClimaReporte-01-11-2023--10-04-2024.xlsx', skiprows=5)\n",
    "ema_df['Fecha'] =  pd.to_datetime(ema_df['Fecha'], format='%d-%m-%Y %H:%M')\n",
    "ema_df.set_index('Fecha', inplace=True)"
   ]
  },
  {
   "cell_type": "code",
   "execution_count": 65,
   "id": "64d0a365",
   "metadata": {
    "ExecuteTime": {
     "end_time": "2024-04-15T00:51:06.430803Z",
     "start_time": "2024-04-15T00:51:06.424683Z"
    }
   },
   "outputs": [
    {
     "data": {
      "text/html": [
       "<div>\n",
       "<style scoped>\n",
       "    .dataframe tbody tr th:only-of-type {\n",
       "        vertical-align: middle;\n",
       "    }\n",
       "\n",
       "    .dataframe tbody tr th {\n",
       "        vertical-align: top;\n",
       "    }\n",
       "\n",
       "    .dataframe thead th {\n",
       "        text-align: right;\n",
       "    }\n",
       "</style>\n",
       "<table border=\"1\" class=\"dataframe\">\n",
       "  <thead>\n",
       "    <tr style=\"text-align: right;\">\n",
       "      <th></th>\n",
       "      <th>Registro de Lluvia [mm]</th>\n",
       "      <th>Unnamed: 2</th>\n",
       "    </tr>\n",
       "    <tr>\n",
       "      <th>Fecha</th>\n",
       "      <th></th>\n",
       "      <th></th>\n",
       "    </tr>\n",
       "  </thead>\n",
       "  <tbody>\n",
       "    <tr>\n",
       "      <th>2023-11-01 00:00:00</th>\n",
       "      <td>0.0</td>\n",
       "      <td>NaN</td>\n",
       "    </tr>\n",
       "    <tr>\n",
       "      <th>2023-11-01 00:10:00</th>\n",
       "      <td>0.0</td>\n",
       "      <td>NaN</td>\n",
       "    </tr>\n",
       "    <tr>\n",
       "      <th>2023-11-01 00:20:00</th>\n",
       "      <td>0.0</td>\n",
       "      <td>NaN</td>\n",
       "    </tr>\n",
       "    <tr>\n",
       "      <th>2023-11-01 00:30:00</th>\n",
       "      <td>0.0</td>\n",
       "      <td>NaN</td>\n",
       "    </tr>\n",
       "    <tr>\n",
       "      <th>2023-11-01 00:40:00</th>\n",
       "      <td>0.0</td>\n",
       "      <td>NaN</td>\n",
       "    </tr>\n",
       "    <tr>\n",
       "      <th>...</th>\n",
       "      <td>...</td>\n",
       "      <td>...</td>\n",
       "    </tr>\n",
       "    <tr>\n",
       "      <th>2024-04-10 23:10:00</th>\n",
       "      <td>0.0</td>\n",
       "      <td>NaN</td>\n",
       "    </tr>\n",
       "    <tr>\n",
       "      <th>2024-04-10 23:20:00</th>\n",
       "      <td>0.0</td>\n",
       "      <td>NaN</td>\n",
       "    </tr>\n",
       "    <tr>\n",
       "      <th>2024-04-10 23:30:00</th>\n",
       "      <td>0.0</td>\n",
       "      <td>NaN</td>\n",
       "    </tr>\n",
       "    <tr>\n",
       "      <th>2024-04-10 23:40:00</th>\n",
       "      <td>0.0</td>\n",
       "      <td>NaN</td>\n",
       "    </tr>\n",
       "    <tr>\n",
       "      <th>2024-04-10 23:50:00</th>\n",
       "      <td>0.0</td>\n",
       "      <td>NaN</td>\n",
       "    </tr>\n",
       "  </tbody>\n",
       "</table>\n",
       "<p>23326 rows × 2 columns</p>\n",
       "</div>"
      ],
      "text/plain": [
       "                     Registro de Lluvia [mm]  Unnamed: 2\n",
       "Fecha                                                   \n",
       "2023-11-01 00:00:00                      0.0         NaN\n",
       "2023-11-01 00:10:00                      0.0         NaN\n",
       "2023-11-01 00:20:00                      0.0         NaN\n",
       "2023-11-01 00:30:00                      0.0         NaN\n",
       "2023-11-01 00:40:00                      0.0         NaN\n",
       "...                                      ...         ...\n",
       "2024-04-10 23:10:00                      0.0         NaN\n",
       "2024-04-10 23:20:00                      0.0         NaN\n",
       "2024-04-10 23:30:00                      0.0         NaN\n",
       "2024-04-10 23:40:00                      0.0         NaN\n",
       "2024-04-10 23:50:00                      0.0         NaN\n",
       "\n",
       "[23326 rows x 2 columns]"
      ]
     },
     "execution_count": 65,
     "metadata": {},
     "output_type": "execute_result"
    }
   ],
   "source": [
    "ema_df"
   ]
  },
  {
   "cell_type": "code",
   "execution_count": 2,
   "id": "ab700a1a",
   "metadata": {
    "ExecuteTime": {
     "end_time": "2024-04-14T23:57:10.730095Z",
     "start_time": "2024-04-14T23:57:10.714832Z"
    }
   },
   "outputs": [],
   "source": [
    "directory = '/home/msuarez/Documents/Script-Download_IMERG-F/202311_202404'\n",
    "\n",
    "# Los datos de IMERG-F se descargan de https://disc.gsfc.nasa.gov/datasets/GPM_3IMERGHH_06\n",
    "imergFilelist = glob.glob(directory+'/*.nc4')\n",
    "imergFilelist.sort()"
   ]
  },
  {
   "cell_type": "code",
   "execution_count": 3,
   "id": "5a97e2df",
   "metadata": {
    "ExecuteTime": {
     "end_time": "2024-04-14T23:57:11.446683Z",
     "start_time": "2024-04-14T23:57:11.439027Z"
    }
   },
   "outputs": [
    {
     "data": {
      "text/plain": [
       "7764"
      ]
     },
     "execution_count": 3,
     "metadata": {},
     "output_type": "execute_result"
    }
   ],
   "source": [
    "len(imergFilelist)"
   ]
  },
  {
   "cell_type": "markdown",
   "id": "81603d48",
   "metadata": {},
   "source": [
    "# El siguiente bloque es para datos de IMERG-Late (half-hour)"
   ]
  },
  {
   "cell_type": "code",
   "execution_count": 30,
   "id": "a194f215",
   "metadata": {
    "ExecuteTime": {
     "end_time": "2024-04-15T00:08:01.344705Z",
     "start_time": "2024-04-15T00:07:41.804252Z"
    }
   },
   "outputs": [
    {
     "name": "stdout",
     "output_type": "stream",
     "text": [
      "Coordenadas objetivo: -31.277694 -64.301187\n",
      "Las coordenadas del punto de grilla mas cercano son: -31.25 -64.35\n",
      "Archivo  /home/msuarez/Documents/Script-Download_IMERG-F/202311_202404/3B-HHR-L.MS.MRG.3IMERG.20231211-S033000-E035959.0210.V06E.HDF5.nc4  no procesado\n",
      "\n",
      "Error  [Errno -51] NetCDF: Unknown file format: b'/home/msuarez/Documents/Script-Download_IMERG-F/202311_202404/3B-HHR-L.MS.MRG.3IMERG.20231211-S033000-E035959.0210.V06E.HDF5.nc4'\n",
      "Archivo  /home/msuarez/Documents/Script-Download_IMERG-F/202311_202404/3B-HHR-L.MS.MRG.3IMERG.20240124-S160000-E162959.0960.V06E.HDF5.nc4  no procesado\n",
      "\n",
      "Error  [Errno -51] NetCDF: Unknown file format: b'/home/msuarez/Documents/Script-Download_IMERG-F/202311_202404/3B-HHR-L.MS.MRG.3IMERG.20240124-S160000-E162959.0960.V06E.HDF5.nc4'\n",
      "Archivo  /home/msuarez/Documents/Script-Download_IMERG-F/202311_202404/3B-HHR-L.MS.MRG.3IMERG.20240317-S130000-E132959.0780.V06E.HDF5.nc4  no procesado\n",
      "\n",
      "Error  [Errno -51] NetCDF: Unknown file format: b'/home/msuarez/Documents/Script-Download_IMERG-F/202311_202404/3B-HHR-L.MS.MRG.3IMERG.20240317-S130000-E132959.0780.V06E.HDF5.nc4'\n",
      "Proceso Finalizado\n"
     ]
    }
   ],
   "source": [
    "target_lat = -31.277694\n",
    "target_lon = -64.301187\n",
    "\n",
    "print('Coordenadas objetivo:',target_lat,target_lon)\n",
    "\n",
    "df_imerg = pd.DataFrame()\n",
    "contador = 0\n",
    "\n",
    "for file in imergFilelist:\n",
    "    \n",
    "    try:\n",
    "        nc = NetCDFFile(file)\n",
    "\n",
    "        str_date = file.split('/')[-1].split('IMERG.')[-1][:8]\n",
    "        str_hour = file.split('/')[-1].split('-S')[-1][:4]\n",
    "        datetime_object = datetime.strptime(str_date+'-'+str_hour, '%Y%m%d-%H%M')\n",
    "\n",
    "        lat = nc.variables['lat'][:]\n",
    "        lon = nc.variables['lon'][:]\n",
    "        precip = nc.variables['precipitationCal'][:]\n",
    "\n",
    "        ilat = np.argmin( np.abs(lat-(target_lat)))\n",
    "        ilon = np.argmin( np.abs(lon-(target_lon)))\n",
    "\n",
    "        if contador < 1:\n",
    "            print('Las coordenadas del punto de grilla mas cercano son:',lat[ilat],lon[ilon])\n",
    "\n",
    "        contador = contador+1\n",
    "\n",
    "        df_temp = pd.DataFrame( { 'precip [mm]':float(precip[0,ilon,ilat]) } ,\n",
    "                               index=[datetime_object])\n",
    "\n",
    "        df_imerg = pd.concat([df_imerg, df_temp])\n",
    "    except Exception as e:\n",
    "        print('Archivo ',file,' no procesado\\n')\n",
    "        print('Error ',str(e))\n",
    "        continue\n",
    "    \n",
    "print('Proceso Finalizado')"
   ]
  },
  {
   "cell_type": "code",
   "execution_count": 33,
   "id": "25373d98",
   "metadata": {
    "ExecuteTime": {
     "end_time": "2024-04-15T00:31:23.364770Z",
     "start_time": "2024-04-15T00:31:23.362043Z"
    }
   },
   "outputs": [],
   "source": [
    "# ART = UTC-3\n",
    "df_imerg.index = df_imerg.index - pd.Timedelta(hours=3)"
   ]
  },
  {
   "cell_type": "code",
   "execution_count": 34,
   "id": "662760d1",
   "metadata": {
    "ExecuteTime": {
     "end_time": "2024-04-15T00:31:25.629752Z",
     "start_time": "2024-04-15T00:31:25.623532Z"
    }
   },
   "outputs": [
    {
     "data": {
      "text/html": [
       "<div>\n",
       "<style scoped>\n",
       "    .dataframe tbody tr th:only-of-type {\n",
       "        vertical-align: middle;\n",
       "    }\n",
       "\n",
       "    .dataframe tbody tr th {\n",
       "        vertical-align: top;\n",
       "    }\n",
       "\n",
       "    .dataframe thead th {\n",
       "        text-align: right;\n",
       "    }\n",
       "</style>\n",
       "<table border=\"1\" class=\"dataframe\">\n",
       "  <thead>\n",
       "    <tr style=\"text-align: right;\">\n",
       "      <th></th>\n",
       "      <th>precip [mm]</th>\n",
       "    </tr>\n",
       "  </thead>\n",
       "  <tbody>\n",
       "    <tr>\n",
       "      <th>2023-10-31 21:00:00</th>\n",
       "      <td>0.0</td>\n",
       "    </tr>\n",
       "    <tr>\n",
       "      <th>2023-10-31 21:30:00</th>\n",
       "      <td>0.0</td>\n",
       "    </tr>\n",
       "    <tr>\n",
       "      <th>2023-10-31 22:00:00</th>\n",
       "      <td>0.0</td>\n",
       "    </tr>\n",
       "    <tr>\n",
       "      <th>2023-10-31 22:30:00</th>\n",
       "      <td>0.0</td>\n",
       "    </tr>\n",
       "    <tr>\n",
       "      <th>2023-10-31 23:00:00</th>\n",
       "      <td>0.0</td>\n",
       "    </tr>\n",
       "    <tr>\n",
       "      <th>...</th>\n",
       "      <td>...</td>\n",
       "    </tr>\n",
       "    <tr>\n",
       "      <th>2024-04-10 18:30:00</th>\n",
       "      <td>0.0</td>\n",
       "    </tr>\n",
       "    <tr>\n",
       "      <th>2024-04-10 19:00:00</th>\n",
       "      <td>0.0</td>\n",
       "    </tr>\n",
       "    <tr>\n",
       "      <th>2024-04-10 19:30:00</th>\n",
       "      <td>0.0</td>\n",
       "    </tr>\n",
       "    <tr>\n",
       "      <th>2024-04-10 20:00:00</th>\n",
       "      <td>0.0</td>\n",
       "    </tr>\n",
       "    <tr>\n",
       "      <th>2024-04-10 20:30:00</th>\n",
       "      <td>0.0</td>\n",
       "    </tr>\n",
       "  </tbody>\n",
       "</table>\n",
       "<p>7761 rows × 1 columns</p>\n",
       "</div>"
      ],
      "text/plain": [
       "                     precip [mm]\n",
       "2023-10-31 21:00:00          0.0\n",
       "2023-10-31 21:30:00          0.0\n",
       "2023-10-31 22:00:00          0.0\n",
       "2023-10-31 22:30:00          0.0\n",
       "2023-10-31 23:00:00          0.0\n",
       "...                          ...\n",
       "2024-04-10 18:30:00          0.0\n",
       "2024-04-10 19:00:00          0.0\n",
       "2024-04-10 19:30:00          0.0\n",
       "2024-04-10 20:00:00          0.0\n",
       "2024-04-10 20:30:00          0.0\n",
       "\n",
       "[7761 rows x 1 columns]"
      ]
     },
     "execution_count": 34,
     "metadata": {},
     "output_type": "execute_result"
    }
   ],
   "source": [
    "df_imerg"
   ]
  },
  {
   "cell_type": "code",
   "execution_count": 59,
   "id": "05a71680",
   "metadata": {
    "ExecuteTime": {
     "end_time": "2024-04-15T00:44:43.697974Z",
     "start_time": "2024-04-15T00:44:43.672091Z"
    }
   },
   "outputs": [],
   "source": [
    "# df_imerg.to_csv('/home/msuarez/Documents/Script-Download_IMERG-F/202311_202404/202311_202404.csv')"
   ]
  },
  {
   "cell_type": "code",
   "execution_count": 63,
   "id": "411ff953",
   "metadata": {
    "ExecuteTime": {
     "end_time": "2024-04-15T00:49:46.331507Z",
     "start_time": "2024-04-15T00:49:46.226202Z"
    }
   },
   "outputs": [
    {
     "data": {
      "image/png": "[encoded data removed]",
      "text/plain": [
       "<Figure size 936x360 with 1 Axes>"
      ]
     },
     "metadata": {
      "needs_background": "light"
     },
     "output_type": "display_data"
    }
   ],
   "source": [
    "import matplotlib.pyplot as plt\n",
    "\n",
    "plt.figure(figsize=(13,5))\n",
    "\n",
    "plt.plot(df_imerg.index,\n",
    "         df_imerg['precip [mm]'], label='IMERG-Late')\n",
    "\n",
    "plt.plot(ema_df.index,\n",
    "         ema_df['Registro de Lluvia [mm]'], label='Estación')\n",
    "\n",
    "plt.xlabel('Fecha-Hora',fontweight='bold')\n",
    "plt.ylabel('Precipitación [mm]',fontweight='bold')\n",
    "\n",
    "from matplotlib.ticker import StrMethodFormatter\n",
    "plt.gca().yaxis.set_major_formatter(StrMethodFormatter('{x:,.1f}'))\n",
    "\n",
    "plt.xticks(rotation=45)\n",
    "plt.legend(loc='upper left')\n",
    "\n",
    "plt.tight_layout()\n",
    "plt.show()"
   ]
  },
  {
   "cell_type": "code",
   "execution_count": null,
   "id": "ef36141f",
   "metadata": {
    "ExecuteTime": {
     "end_time": "2024-04-15T01:09:50.404250Z",
     "start_time": "2024-04-15T01:09:50.291646Z"
    }
   },
   "outputs": [],
   "source": [
    "inicio = datetime.strptime('2024-01-01 00:00', '%Y-%m-%d %H:%M')  # Fecha inicial de los datos a analizar\n",
    "fin    = datetime.strptime('2024-01-15 00:00', '%Y-%m-%d %H:%M')\n",
    "\n",
    "plt.figure(figsize=(13,5))\n",
    "\n",
    "plt.plot(df_imerg[inicio:fin].index,\n",
    "         df_imerg[inicio:fin]['precip [mm]'], label='IMERG-Late')\n",
    "\n",
    "plt.plot(ema_df[inicio:fin].index,\n",
    "         ema_df[inicio:fin]['Registro de Lluvia [mm]'], label='Estación')\n",
    "\n",
    "plt.xlabel('Fecha-Hora',fontweight='bold')\n",
    "plt.ylabel('Precipitación [mm]',fontweight='bold')\n",
    "\n",
    "from matplotlib.ticker import StrMethodFormatter\n",
    "plt.gca().yaxis.set_major_formatter(StrMethodFormatter('{x:,.1f}'))\n",
    "\n",
    "plt.xticks(rotation=45)\n",
    "plt.legend(loc='upper left')\n",
    "\n",
    "plt.tight_layout()\n",
    "plt.show()"
   ]
  },
  {
   "cell_type": "code",
   "execution_count": 53,
   "id": "eff2e254",
   "metadata": {
    "ExecuteTime": {
     "end_time": "2024-04-15T00:42:30.333937Z",
     "start_time": "2024-04-15T00:42:30.327867Z"
    }
   },
   "outputs": [
    {
     "data": {
      "text/html": [
       "<div>\n",
       "<style scoped>\n",
       "    .dataframe tbody tr th:only-of-type {\n",
       "        vertical-align: middle;\n",
       "    }\n",
       "\n",
       "    .dataframe tbody tr th {\n",
       "        vertical-align: top;\n",
       "    }\n",
       "\n",
       "    .dataframe thead th {\n",
       "        text-align: right;\n",
       "    }\n",
       "</style>\n",
       "<table border=\"1\" class=\"dataframe\">\n",
       "  <thead>\n",
       "    <tr style=\"text-align: right;\">\n",
       "      <th></th>\n",
       "      <th>precip [mm]</th>\n",
       "    </tr>\n",
       "  </thead>\n",
       "  <tbody>\n",
       "    <tr>\n",
       "      <th>2023-11-01 06:00:00</th>\n",
       "      <td>0.100006</td>\n",
       "    </tr>\n",
       "    <tr>\n",
       "      <th>2023-11-01 06:30:00</th>\n",
       "      <td>0.067553</td>\n",
       "    </tr>\n",
       "    <tr>\n",
       "      <th>2023-11-01 07:00:00</th>\n",
       "      <td>0.118665</td>\n",
       "    </tr>\n",
       "    <tr>\n",
       "      <th>2023-11-01 07:30:00</th>\n",
       "      <td>0.346885</td>\n",
       "    </tr>\n",
       "    <tr>\n",
       "      <th>2023-11-01 08:00:00</th>\n",
       "      <td>0.324228</td>\n",
       "    </tr>\n",
       "    <tr>\n",
       "      <th>...</th>\n",
       "      <td>...</td>\n",
       "    </tr>\n",
       "    <tr>\n",
       "      <th>2024-04-10 16:00:00</th>\n",
       "      <td>0.000000</td>\n",
       "    </tr>\n",
       "    <tr>\n",
       "      <th>2024-04-10 16:30:00</th>\n",
       "      <td>0.000000</td>\n",
       "    </tr>\n",
       "    <tr>\n",
       "      <th>2024-04-10 17:00:00</th>\n",
       "      <td>0.000000</td>\n",
       "    </tr>\n",
       "    <tr>\n",
       "      <th>2024-04-10 17:30:00</th>\n",
       "      <td>0.000000</td>\n",
       "    </tr>\n",
       "    <tr>\n",
       "      <th>2024-04-10 18:00:00</th>\n",
       "      <td>0.000000</td>\n",
       "    </tr>\n",
       "  </tbody>\n",
       "</table>\n",
       "<p>4039 rows × 1 columns</p>\n",
       "</div>"
      ],
      "text/plain": [
       "                     precip [mm]\n",
       "2023-11-01 06:00:00     0.100006\n",
       "2023-11-01 06:30:00     0.067553\n",
       "2023-11-01 07:00:00     0.118665\n",
       "2023-11-01 07:30:00     0.346885\n",
       "2023-11-01 08:00:00     0.324228\n",
       "...                          ...\n",
       "2024-04-10 16:00:00     0.000000\n",
       "2024-04-10 16:30:00     0.000000\n",
       "2024-04-10 17:00:00     0.000000\n",
       "2024-04-10 17:30:00     0.000000\n",
       "2024-04-10 18:00:00     0.000000\n",
       "\n",
       "[4039 rows x 1 columns]"
      ]
     },
     "execution_count": 53,
     "metadata": {},
     "output_type": "execute_result"
    }
   ],
   "source": [
    "# Agrupo el dataframe de acuerdo a la precipitación acumulada diaria en un rango del día\n",
    "df_imerg_date_filtered = df_imerg.between_time('6:00', '18:00')\n",
    "df_imerg_date_filtered"
   ]
  },
  {
   "cell_type": "code",
   "execution_count": 69,
   "id": "c629df7b",
   "metadata": {
    "ExecuteTime": {
     "end_time": "2024-04-15T00:54:09.907135Z",
     "start_time": "2024-04-15T00:54:09.899466Z"
    }
   },
   "outputs": [
    {
     "data": {
      "text/plain": [
       "2023-11-01     3.016153\n",
       "2023-11-02     0.209561\n",
       "2023-11-03     0.000000\n",
       "2023-11-04     0.000000\n",
       "2023-11-05     0.000000\n",
       "                ...    \n",
       "2024-04-06    16.185016\n",
       "2024-04-07     0.000000\n",
       "2024-04-08     0.000000\n",
       "2024-04-09     0.000000\n",
       "2024-04-10     0.000000\n",
       "Name: precip [mm], Length: 162, dtype: float64"
      ]
     },
     "execution_count": 69,
     "metadata": {},
     "output_type": "execute_result"
    }
   ],
   "source": [
    "# Sumo los valores de precip correspondientes a cada dia\n",
    "df_imerg_filt = df_imerg_date_filtered.groupby(df_imerg_date_filtered.index.date)['precip [mm]'].sum()\n",
    "df_imerg_filt"
   ]
  },
  {
   "cell_type": "code",
   "execution_count": 80,
   "id": "104a343d",
   "metadata": {
    "ExecuteTime": {
     "end_time": "2024-04-15T00:56:28.958238Z",
     "start_time": "2024-04-15T00:56:28.954564Z"
    }
   },
   "outputs": [
    {
     "data": {
      "text/plain": [
       "2024-02-08    229.346517\n",
       "2024-02-06    134.538793\n",
       "2024-02-12    132.367371\n",
       "2024-03-27    111.776350\n",
       "2024-02-04     77.843173\n",
       "2024-01-07     57.822868\n",
       "2024-03-02     47.406100\n",
       "2023-12-13     44.760554\n",
       "2024-02-07     35.093020\n",
       "2024-01-14     26.948029\n",
       "2024-01-04     21.746961\n",
       "2023-11-21     20.856792\n",
       "2024-04-06     16.185016\n",
       "2024-01-16     15.557917\n",
       "2024-02-11     15.247201\n",
       "2024-01-11     12.716018\n",
       "2024-01-01      7.647796\n",
       "2023-12-16      7.209438\n",
       "2024-02-23      6.700260\n",
       "2024-03-03      6.069596\n",
       "Name: precip [mm], dtype: float64"
      ]
     },
     "execution_count": 80,
     "metadata": {},
     "output_type": "execute_result"
    }
   ],
   "source": [
    "df_imerg_filt.sort_values(ascending=False).head(20)"
   ]
  },
  {
   "cell_type": "code",
   "execution_count": 70,
   "id": "7458345a",
   "metadata": {
    "ExecuteTime": {
     "end_time": "2024-04-15T00:54:16.198183Z",
     "start_time": "2024-04-15T00:54:16.195259Z"
    }
   },
   "outputs": [
    {
     "data": {
      "text/plain": [
       "22"
      ]
     },
     "execution_count": 70,
     "metadata": {},
     "output_type": "execute_result"
    }
   ],
   "source": [
    "# Contamos el numero de valores según una condición\n",
    "df_imerg_filt[df_imerg_filt > 5 ].count() "
   ]
  },
  {
   "cell_type": "code",
   "execution_count": 66,
   "id": "6f827255",
   "metadata": {
    "ExecuteTime": {
     "end_time": "2024-04-15T00:52:09.206148Z",
     "start_time": "2024-04-15T00:52:09.194805Z"
    }
   },
   "outputs": [
    {
     "data": {
      "text/plain": [
       "2023-11-01     1.0\n",
       "2023-11-02     0.0\n",
       "2023-11-03     0.0\n",
       "2023-11-04     0.0\n",
       "2023-11-05     0.0\n",
       "              ... \n",
       "2024-04-06    24.0\n",
       "2024-04-07     0.2\n",
       "2024-04-08     0.2\n",
       "2024-04-09     0.0\n",
       "2024-04-10     3.0\n",
       "Name: Registro de Lluvia [mm], Length: 162, dtype: float64"
      ]
     },
     "execution_count": 66,
     "metadata": {},
     "output_type": "execute_result"
    }
   ],
   "source": [
    "# Agrupo el dataframe de acuerdo a la precipitación acumulada diaria en un rango del día\n",
    "ema_df_date_filtered = ema_df.between_time('6:00', '18:00')\n",
    "df_ema_filt = ema_df_date_filtered.groupby(ema_df_date_filtered.index.date)['Registro de Lluvia [mm]'].sum()\n",
    "df_ema_filt"
   ]
  },
  {
   "cell_type": "code",
   "execution_count": 111,
   "id": "8fdad14e",
   "metadata": {
    "ExecuteTime": {
     "end_time": "2024-04-15T01:04:36.796895Z",
     "start_time": "2024-04-15T01:04:36.791761Z"
    }
   },
   "outputs": [
    {
     "data": {
      "text/plain": [
       "2024-03-27    61.0\n",
       "2024-04-06    24.0\n",
       "2024-02-12    22.2\n",
       "2024-02-25     8.8\n",
       "2023-11-30     4.2\n",
       "2024-01-16     3.8\n",
       "2024-01-01     3.6\n",
       "2024-04-10     3.0\n",
       "2024-02-11     3.0\n",
       "2024-03-14     3.0\n",
       "2024-02-09     2.8\n",
       "2024-03-03     1.8\n",
       "2023-11-29     1.8\n",
       "2024-03-17     1.8\n",
       "2023-12-19     1.6\n",
       "2023-12-03     1.6\n",
       "2023-12-16     1.2\n",
       "2024-02-08     1.0\n",
       "2024-01-10     1.0\n",
       "2023-12-06     1.0\n",
       "Name: Registro de Lluvia [mm], dtype: float64"
      ]
     },
     "execution_count": 111,
     "metadata": {},
     "output_type": "execute_result"
    }
   ],
   "source": [
    "df_ema_filt.sort_values(ascending=False).head(20)"
   ]
  },
  {
   "cell_type": "code",
   "execution_count": 68,
   "id": "1721fdec",
   "metadata": {
    "ExecuteTime": {
     "end_time": "2024-04-15T00:53:31.906361Z",
     "start_time": "2024-04-15T00:53:31.900559Z"
    }
   },
   "outputs": [
    {
     "data": {
      "text/plain": [
       "4"
      ]
     },
     "execution_count": 68,
     "metadata": {},
     "output_type": "execute_result"
    }
   ],
   "source": [
    "# Contamos el numero de valores según una condición\n",
    "df_ema_filt[df_ema_filt > 5 ].count() "
   ]
  },
  {
   "cell_type": "code",
   "execution_count": 71,
   "id": "471ff659",
   "metadata": {
    "ExecuteTime": {
     "end_time": "2024-04-15T00:54:22.731518Z",
     "start_time": "2024-04-15T00:54:22.601002Z"
    }
   },
   "outputs": [
    {
     "data": {
      "image/png": "[encoded data removed]",
      "text/plain": [
       "<Figure size 936x360 with 1 Axes>"
      ]
     },
     "metadata": {
      "needs_background": "light"
     },
     "output_type": "display_data"
    }
   ],
   "source": [
    "plt.figure(figsize=(13,5))\n",
    "\n",
    "plt.plot(df_imerg_filt.index,\n",
    "         df_imerg_filt, label='IMERG-Late')\n",
    "\n",
    "plt.plot(df_ema_filt.index,\n",
    "         df_ema_filt, label='Estación')\n",
    "\n",
    "plt.xlabel('Fecha-Hora',fontweight='bold')\n",
    "plt.ylabel('Precipitación [mm]',fontweight='bold')\n",
    "\n",
    "from matplotlib.ticker import StrMethodFormatter\n",
    "plt.gca().yaxis.set_major_formatter(StrMethodFormatter('{x:,.1f}'))\n",
    "\n",
    "plt.xticks(rotation=45)\n",
    "plt.legend(loc='upper left')\n",
    "\n",
    "plt.tight_layout()\n",
    "plt.show()"
   ]
  },
  {
   "cell_type": "code",
   "execution_count": 129,
   "id": "3bf63c2c",
   "metadata": {
    "ExecuteTime": {
     "end_time": "2024-04-15T01:14:02.805676Z",
     "start_time": "2024-04-15T01:14:02.701440Z"
    }
   },
   "outputs": [
    {
     "data": {
      "image/png": "[encoded data removed]",
      "text/plain": [
       "<Figure size 936x576 with 1 Axes>"
      ]
     },
     "metadata": {
      "needs_background": "light"
     },
     "output_type": "display_data"
    }
   ],
   "source": [
    "plt.figure(figsize=(13,8))\n",
    "\n",
    "nro = 50\n",
    "\n",
    "plt.scatter(df_ema_filt.sort_values(ascending=False).head(nro).index,\n",
    "            df_ema_filt.sort_values(ascending=False).head(nro), label='Estacion')\n",
    "\n",
    "plt.scatter(df_imerg_filt.sort_values(ascending=False).head(nro).index,\n",
    "            df_imerg_filt.sort_values(ascending=False).head(nro), label='IMERG')\n",
    "\n",
    "plt.legend()\n",
    "plt.show()"
   ]
  },
  {
   "cell_type": "markdown",
   "id": "3d2ff6ba",
   "metadata": {},
   "source": [
    "# El siguiente bloque es para datos de IMERG-Late (diario)"
   ]
  },
  {
   "cell_type": "code",
   "execution_count": null,
   "id": "fda4d0c1",
   "metadata": {
    "ExecuteTime": {
     "end_time": "2024-04-14T23:57:24.949711Z",
     "start_time": "2024-04-14T23:57:24.891323Z"
    }
   },
   "outputs": [],
   "source": [
    "target_lat = -31.277694\n",
    "target_lon = -64.301187\n",
    "\n",
    "print('Coordenadas objetivo:',target_lat,target_lon)\n",
    "\n",
    "df_imerg = pd.DataFrame()\n",
    "contador = 0\n",
    "\n",
    "for file in imergFilelist:\n",
    "\n",
    "    nc = NetCDFFile(file)\n",
    "\n",
    "    datetime_object = datetime.strptime(nc.BeginDate, '%Y-%m-%d')\n",
    "    \n",
    "    lat = nc.variables['lat'][:]\n",
    "    lon = nc.variables['lon'][:]\n",
    "    precip = nc.variables['precipitationCal'][:]\n",
    "\n",
    "    ilat = np.argmin( np.abs(lat-(target_lat)))\n",
    "    ilon = np.argmin( np.abs(lon-(target_lon)))\n",
    "    \n",
    "    if contador < 1:\n",
    "        print('Las coordenadas del punto de grilla mas cercano son:',lat[ilat],lon[ilon])\n",
    "\n",
    "    contador = contador+1\n",
    "\n",
    "    df_temp = pd.DataFrame( { 'precip [mm]':float(precip[0,ilon,ilat]) } ,\n",
    "                           index=[datetime_object])\n",
    "\n",
    "    df_imerg = pd.concat([df_imerg, df_temp])\n",
    "    \n",
    "print('Proceso Finalizado')"
   ]
  },
  {
   "cell_type": "code",
   "execution_count": 5,
   "id": "fc5d7883",
   "metadata": {
    "ExecuteTime": {
     "end_time": "2024-04-14T23:57:38.784650Z",
     "start_time": "2024-04-14T23:57:38.769858Z"
    }
   },
   "outputs": [
    {
     "data": {
      "text/html": [
       "<div>\n",
       "<style scoped>\n",
       "    .dataframe tbody tr th:only-of-type {\n",
       "        vertical-align: middle;\n",
       "    }\n",
       "\n",
       "    .dataframe tbody tr th {\n",
       "        vertical-align: top;\n",
       "    }\n",
       "\n",
       "    .dataframe thead th {\n",
       "        text-align: right;\n",
       "    }\n",
       "</style>\n",
       "<table border=\"1\" class=\"dataframe\">\n",
       "  <thead>\n",
       "    <tr style=\"text-align: right;\">\n",
       "      <th></th>\n",
       "    </tr>\n",
       "  </thead>\n",
       "  <tbody>\n",
       "  </tbody>\n",
       "</table>\n",
       "</div>"
      ],
      "text/plain": [
       "Empty DataFrame\n",
       "Columns: []\n",
       "Index: []"
      ]
     },
     "execution_count": 5,
     "metadata": {},
     "output_type": "execute_result"
    }
   ],
   "source": [
    "df_imerg"
   ]
  },
  {
   "cell_type": "code",
   "execution_count": 61,
   "id": "ae9d0e09",
   "metadata": {
    "ExecuteTime": {
     "end_time": "2024-04-11T00:19:22.614189Z",
     "start_time": "2024-04-11T00:19:22.604887Z"
    }
   },
   "outputs": [
    {
     "data": {
      "text/plain": [
       "precip [mm]    7\n",
       "dtype: int64"
      ]
     },
     "execution_count": 61,
     "metadata": {},
     "output_type": "execute_result"
    }
   ],
   "source": [
    "# Contamos el numero de valores según una condición\n",
    "df_imerg[df_imerg > 5 ].count() "
   ]
  },
  {
   "cell_type": "code",
   "execution_count": 55,
   "id": "bfd18478",
   "metadata": {
    "ExecuteTime": {
     "end_time": "2024-04-11T00:09:11.947623Z",
     "start_time": "2024-04-11T00:09:11.944638Z"
    }
   },
   "outputs": [],
   "source": [
    "# df_imerg.to_csv('/home/msuarez/Desktop/IMERG_F_20200323_2115-20200329_2045.csv')"
   ]
  },
  {
   "cell_type": "code",
   "execution_count": 62,
   "id": "eacd6caf",
   "metadata": {
    "ExecuteTime": {
     "end_time": "2024-04-11T00:19:24.657722Z",
     "start_time": "2024-04-11T00:19:24.523841Z"
    }
   },
   "outputs": [
    {
     "data": {
      "image/png": "[encoded data removed]",
      "text/plain": [
       "<Figure size 936x360 with 1 Axes>"
      ]
     },
     "metadata": {
      "needs_background": "light"
     },
     "output_type": "display_data"
    }
   ],
   "source": [
    "import matplotlib.pyplot as plt\n",
    "\n",
    "plt.figure(figsize=(13,5))\n",
    "\n",
    "plt.plot(df_imerg.index,\n",
    "         df_imerg['precip [mm]'], label='IMERG-Late')\n",
    "\n",
    "plt.xlabel('Fecha-Hora',fontweight='bold')\n",
    "plt.ylabel('Precipitación [mm]',fontweight='bold')\n",
    "\n",
    "from matplotlib.ticker import StrMethodFormatter\n",
    "plt.gca().yaxis.set_major_formatter(StrMethodFormatter('{x:,.1f}'))\n",
    "\n",
    "plt.xticks(rotation=45)\n",
    "plt.legend(loc='upper left')\n",
    "\n",
    "plt.tight_layout()\n",
    "plt.show()"
   ]
  },
  {
   "cell_type": "code",
   "execution_count": null,
   "id": "b9ad3838",
   "metadata": {},
   "outputs": [],
   "source": []
  }
 ],
 "metadata": {
  "kernelspec": {
   "display_name": "Python 3",
   "language": "python",
   "name": "python3"
  },
  "language_info": {
   "codemirror_mode": {
    "name": "ipython",
    "version": 3
   },
   "file_extension": ".py",
   "mimetype": "text/x-python",
   "name": "python",
   "nbconvert_exporter": "python",
   "pygments_lexer": "ipython3",
   "version": "3.8.10"
  }
 },
 "nbformat": 4,
 "nbformat_minor": 5
}
