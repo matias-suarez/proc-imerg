{
 "cells": [
  {
   "cell_type": "code",
   "execution_count": 1,
   "id": "2da238cb",
   "metadata": {},
   "outputs": [],
   "source": [
    "import pandas as pd\n",
    "import numpy as np\n",
    "import xarray as xr\n",
    "import requests "
   ]
  },
  {
   "cell_type": "code",
   "execution_count": 9,
   "id": "f4167215",
   "metadata": {},
   "outputs": [
    {
     "data": {
      "text/plain": [
       "0    https://docserver.gesdisc.eosdis.nasa.gov/publ...\n",
       "1    https://gpm1.gesdisc.eosdis.nasa.gov/data/GPM_...\n",
       "2    https://gpm1.gesdisc.eosdis.nasa.gov/opendap/G...\n",
       "3    https://gpm1.gesdisc.eosdis.nasa.gov/opendap/G...\n",
       "4    https://gpm1.gesdisc.eosdis.nasa.gov/opendap/G...\n",
       "Name: 0, dtype: object"
      ]
     },
     "execution_count": 9,
     "metadata": {},
     "output_type": "execute_result"
    }
   ],
   "source": [
    "ds = pd.read_csv('subset_GPM_3IMERGHH_06_20230627_010541_.txt', header = None, sep = ' ')[0]\n",
    "ds.head()"
   ]
  },
  {
   "cell_type": "code",
   "execution_count": 15,
   "id": "1d2f28d1",
   "metadata": {},
   "outputs": [],
   "source": [
    "# Do not forget to add .netrc file in root dir of colab. printing `result` should return status code 200\n",
    "for file in range(0, 10):#len(ds)):\n",
    "    URL = ds[file]\n",
    "    result = requests.get(URL)\n",
    "    filename = URL.split('?')[0].split('/')[-1]\n",
    "    with open(filename, 'wb') as f:\n",
    "        f.write(result.content)"
   ]
  },
  {
   "cell_type": "code",
   "execution_count": null,
   "id": "9cda3169",
   "metadata": {},
   "outputs": [],
   "source": []
  }
 ],
 "metadata": {
  "kernelspec": {
   "display_name": "Python 3 (ipykernel)",
   "language": "python",
   "name": "python3"
  },
  "language_info": {
   "codemirror_mode": {
    "name": "ipython",
    "version": 3
   },
   "file_extension": ".py",
   "mimetype": "text/x-python",
   "name": "python",
   "nbconvert_exporter": "python",
   "pygments_lexer": "ipython3",
   "version": "3.9.15"
  }
 },
 "nbformat": 4,
 "nbformat_minor": 5
}
